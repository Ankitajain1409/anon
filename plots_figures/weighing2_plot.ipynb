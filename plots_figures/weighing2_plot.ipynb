{
 "cells": [
  {
   "cell_type": "code",
   "execution_count": 1,
   "metadata": {},
   "outputs": [],
   "source": [
    "import numpy as np\n",
    "import matplotlib.pyplot as plt\n",
    "import seaborn as sns\n",
    "import pandas as pd\n",
    "from tueplots import bundles"
   ]
  },
  {
   "cell_type": "code",
   "execution_count": 2,
   "metadata": {},
   "outputs": [
    {
     "data": {
      "text/plain": [
       "{'text.usetex': True,\n",
       " 'font.family': 'serif',\n",
       " 'text.latex.preamble': '\\\\usepackage{times} ',\n",
       " 'figure.figsize': (3.25, 2.0086104634371584),\n",
       " 'figure.constrained_layout.use': True,\n",
       " 'figure.autolayout': False,\n",
       " 'savefig.bbox': 'tight',\n",
       " 'savefig.pad_inches': 0.015,\n",
       " 'font.size': 8,\n",
       " 'axes.labelsize': 8,\n",
       " 'legend.fontsize': 6,\n",
       " 'xtick.labelsize': 6,\n",
       " 'ytick.labelsize': 6,\n",
       " 'axes.titlesize': 8}"
      ]
     },
     "execution_count": 2,
     "metadata": {},
     "output_type": "execute_result"
    }
   ],
   "source": [
    "bundles.icml2022()"
   ]
  },
  {
   "cell_type": "code",
   "execution_count": 24,
   "metadata": {},
   "outputs": [
    {
     "data": {
      "image/png": "[encoded data removed]",
      "text/plain": [
       "<Figure size 420x140 with 2 Axes>"
      ]
     },
     "metadata": {},
     "output_type": "display_data"
    }
   ],
   "source": [
    "plt.rcParams.update(bundles.icml2022())\n",
    "plt.rcParams.update({'figure.figsize': (4.2, 1.4)})\n",
    "fig, ax = plt.subplots(1, 2)\n",
    "\n",
    "ax[0].axhline(y=2.5, xmin=0, xmax=12)\n",
    "ax[0].axvline(x=5, linestyle='--')\n",
    "x = ([1,2,3,4,5,6,7,8,9])\n",
    "my_ticks = ['T-k', 'T-k+1', '..', 't-1', 'T', 't+1', '..', 'T+k-1', 'T+k']\n",
    "ax[0].set_xticks(x, my_ticks)\n",
    "tick_labels = ax[0].get_xticklabels()\n",
    "tick_labels[4].set_color('red')\n",
    "ax[0].set_xticklabels(tick_labels)\n",
    "ax[0].set_yticks([])\n",
    "ax[0].set_xlabel(\"(a) Uniform weighing\")\n",
    "ax[0].set_ylabel(\"Weight\")\n",
    "ax[0].set_xlim(0,10)\n",
    "ax[0].set_ylim(0,5.2)\n",
    "sns.despine(ax=ax[0])\n",
    "\n",
    "ax[1].axvline(x = 5, linestyle='--')\n",
    "x1 = np.linspace(0, 5, 100)  \n",
    "x2 = np.linspace(5, 10, 100)  \n",
    "y1 = x1\n",
    "y2 = -x2 + 10\n",
    "ax[1].plot(x1, y1, color = \"#1f77b4\")\n",
    "ax[1].plot(x2, y2, color = \"#1f77b4\")\n",
    "x = ([1,2,3,4,5,6,7,8,9])\n",
    "ax[1].set_xticks(x, my_ticks)\n",
    "tick_labels = ax[1].get_xticklabels()\n",
    "tick_labels[4].set_color('red')\n",
    "ax[1].set_xticklabels(tick_labels)\n",
    "ax[1].set_yticks([])\n",
    "ax[1].set_xlabel(\"(b) Triangle weighing\")\n",
    "ax[1].set_ylabel(\"Weight\")\n",
    "ax[1].set_xlim(0,10)\n",
    "ax[1].set_ylim(0,5.2)\n",
    "sns.despine(ax=ax[1])\n",
    "\n",
    "# plt.savefig('/home/dhruv.patel/trialAndError/ranks_weighing/weighing2.pdf', dpi = 300)\n",
    "plt.show()\n"
   ]
  },
  {
   "cell_type": "code",
   "execution_count": null,
   "metadata": {},
   "outputs": [],
   "source": []
  }
 ],
 "metadata": {
  "kernelspec": {
   "display_name": "active_NILM",
   "language": "python",
   "name": "active_nilm"
  },
  "language_info": {
   "codemirror_mode": {
    "name": "ipython",
    "version": 3
   },
   "file_extension": ".py",
   "mimetype": "text/x-python",
   "name": "python",
   "nbconvert_exporter": "python",
   "pygments_lexer": "ipython3",
   "version": "3.9.16"
  },
  "orig_nbformat": 4
 },
 "nbformat": 4,
 "nbformat_minor": 2
}
