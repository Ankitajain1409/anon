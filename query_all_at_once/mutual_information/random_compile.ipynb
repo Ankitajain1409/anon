{
 "cells": [
  {
   "cell_type": "code",
   "execution_count": 1,
   "metadata": {},
   "outputs": [],
   "source": [
    "import pandas as pd\n",
    "import numpy as np"
   ]
  },
  {
   "cell_type": "code",
   "execution_count": 2,
   "metadata": {},
   "outputs": [],
   "source": [
    "appliance = 'dishwasher'"
   ]
  },
  {
   "cell_type": "code",
   "execution_count": 3,
   "metadata": {},
   "outputs": [
    {
     "name": "stdout",
     "output_type": "stream",
     "text": [
      "            4           4          4           4           4           4  \\\n",
      "0  462.446930  462.446930  462.44693  462.446930  462.446930  462.446930   \n",
      "1  511.280460  619.250370  341.73120  619.250370  476.604430  469.169800   \n",
      "2  235.296720  227.951630  204.02817  225.915280  180.792100  133.608980   \n",
      "3  160.403610  128.015880  142.84349  146.970290  111.068490   74.852090   \n",
      "4  178.566730   99.854010  151.78856   93.840310   83.019610   87.097600   \n",
      "5  117.830055   60.257076  147.75200   56.845966   71.093376   64.604256   \n",
      "6   71.383350   66.629036   97.44387   56.522370   69.478330   63.864178   \n",
      "7   71.337500   60.846980   85.57531   60.708298   72.262440   75.661340   \n",
      "8   58.234930   57.623615   57.80062   56.261227   61.515827   55.138863   \n",
      "9   57.077347   55.610302   58.72880   54.821476   55.533190   60.816807   \n",
      "\n",
      "            4           4           4           4        mean         sigma  \n",
      "0  462.446930  462.446930  462.446930  462.446930  462.446930  1.797547e-14  \n",
      "1  469.169800  619.250370  588.419070  619.250370  533.337624  9.011725e+01  \n",
      "2  212.362930  185.655560  951.747560  381.515140  293.887407  2.275465e+02  \n",
      "3  107.549545   85.809540  255.379750  131.292390  134.418507  4.771194e+01  \n",
      "4  123.157220   80.936990  283.140140   90.649600  127.205077  6.039353e+01  \n",
      "5   72.959175   78.558290   62.939266  109.377200   84.221666  2.879446e+01  \n",
      "6   66.374190   91.051445   67.817690   78.698235   72.926269  1.198796e+01  \n",
      "7   61.439278   60.418500   62.797646   63.114320   67.416161  8.057776e+00  \n",
      "8   57.868702   60.482044   57.949223   62.857550   58.573260  2.242699e+00  \n",
      "9   54.682827   56.522408   57.757954   60.385117   57.193623  2.089199e+00  \n"
     ]
    }
   ],
   "source": [
    "# List to store the dataframes from CSV files\n",
    "dataframes = []\n",
    "\n",
    "# Read the CSV files and store the dataframes in the list\n",
    "for i in range(10):\n",
    "    filename = f\"/home/dhruv.patel/final_active/multitask/{appliance}/random_{i}RMSES.csv\"\n",
    "    df = pd.read_csv(filename)\n",
    "    dataframes.append(df)\n",
    "\n",
    "# Concatenate the dataframes horizontally\n",
    "merged_df = pd.concat(dataframes, axis=1)\n",
    "\n",
    "# Calculate the mean for each row\n",
    "merged_df['mean'] = merged_df.mean(axis=1)\n",
    "merged_df['sigma'] = np.sqrt(merged_df.var(axis=1))\n",
    "\n",
    "# Print the resulting dataframe\n",
    "print(merged_df)\n"
   ]
  },
  {
   "cell_type": "code",
   "execution_count": 4,
   "metadata": {},
   "outputs": [
    {
     "data": {
      "text/plain": [
       "array([462.44693  , 533.337624 , 293.887407 , 134.4185075, 127.205077 ,\n",
       "        84.221666 ,  72.9262694,  67.4161612,  58.5732601,  57.1936228])"
      ]
     },
     "execution_count": 4,
     "metadata": {},
     "output_type": "execute_result"
    }
   ],
   "source": [
    "np.array(merged_df['mean'])"
   ]
  },
  {
   "cell_type": "code",
   "execution_count": 5,
   "metadata": {},
   "outputs": [
    {
     "data": {
      "text/plain": [
       "array([1.79754674e-14, 9.01172459e+01, 2.27546475e+02, 4.77119438e+01,\n",
       "       6.03935332e+01, 2.87944637e+01, 1.19879569e+01, 8.05777550e+00,\n",
       "       2.24269852e+00, 2.08919853e+00])"
      ]
     },
     "execution_count": 5,
     "metadata": {},
     "output_type": "execute_result"
    }
   ],
   "source": [
    "np.array(merged_df['sigma'])"
   ]
  },
  {
   "cell_type": "code",
   "execution_count": null,
   "metadata": {},
   "outputs": [],
   "source": []
  },
  {
   "cell_type": "code",
   "execution_count": null,
   "metadata": {},
   "outputs": [],
   "source": []
  },
  {
   "cell_type": "code",
   "execution_count": null,
   "metadata": {},
   "outputs": [],
   "source": []
  }
 ],
 "metadata": {
  "kernelspec": {
   "display_name": "active_NILM",
   "language": "python",
   "name": "active_nilm"
  },
  "language_info": {
   "codemirror_mode": {
    "name": "ipython",
    "version": 3
   },
   "file_extension": ".py",
   "mimetype": "text/x-python",
   "name": "python",
   "nbconvert_exporter": "python",
   "pygments_lexer": "ipython3",
   "version": "3.9.16"
  },
  "orig_nbformat": 4
 },
 "nbformat": 4,
 "nbformat_minor": 2
}
