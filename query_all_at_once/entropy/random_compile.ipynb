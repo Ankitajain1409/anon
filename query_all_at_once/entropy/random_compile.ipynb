{
 "cells": [
  {
   "cell_type": "code",
   "execution_count": 1,
   "metadata": {},
   "outputs": [],
   "source": [
    "import pandas as pd\n",
    "import numpy as np"
   ]
  },
  {
   "cell_type": "code",
   "execution_count": 2,
   "metadata": {},
   "outputs": [],
   "source": [
    "appliance = 'furnace'"
   ]
  },
  {
   "cell_type": "code",
   "execution_count": 3,
   "metadata": {},
   "outputs": [
    {
     "name": "stdout",
     "output_type": "stream",
     "text": [
      "            2           2           2           2           2           2  \\\n",
      "0  283.741580  283.741580  283.741580  283.741580  283.741580  283.741580   \n",
      "1  188.613890  197.003850  146.734270  197.003850  145.099580  198.693160   \n",
      "2  198.613300   84.784790   87.117500   80.471230   84.757600  165.252430   \n",
      "3   91.477300   72.631190   82.588210   69.788460   81.727240   93.676820   \n",
      "4   77.150250   69.146450   73.882640   83.433100   66.767820   64.951110   \n",
      "5   79.481766   67.723404   75.985650   76.902280   64.764450   63.197063   \n",
      "6   78.974420   71.063540   84.919930   73.193474   70.678604   62.907875   \n",
      "7   62.899350   66.118120   77.573610   80.646280   69.664790   67.305170   \n",
      "8   67.668655   62.005302   67.748400   73.622350   72.566240   65.800610   \n",
      "9   61.434950   61.036003   81.431915   71.098720   68.880560   57.968500   \n",
      "\n",
      "            2           2           2           2        mean         sigma  \n",
      "0  283.741580  283.741580  283.741580  283.741580  283.741580  5.684342e-14  \n",
      "1  198.693160  197.003850  254.831180  197.003850  192.068064  2.897855e+01  \n",
      "2  133.274370   97.824590  177.344160  119.001015  122.844099  4.150924e+01  \n",
      "3  311.883940   77.332560  135.227340   77.795395  109.412846  6.976251e+01  \n",
      "4   82.435295   86.452690  109.357550   68.104750   78.168165  1.262562e+01  \n",
      "5   73.410800   88.624360  101.101570   79.563880   77.075522  1.081153e+01  \n",
      "6   86.074140   90.980360   70.942920   69.789925   75.952519  8.428491e+00  \n",
      "7   77.608530   75.098480   71.996100   64.103260   71.301369  5.909908e+00  \n",
      "8   78.508520   70.323880   66.854330   71.472410   69.657070  4.417567e+00  \n",
      "9   76.493645   63.261395   65.963234   65.119630   67.268855  6.962166e+00  \n"
     ]
    }
   ],
   "source": [
    "# List to store the dataframes from CSV files\n",
    "dataframes = []\n",
    "\n",
    "# Read the CSV files and store the dataframes in the list\n",
    "for i in range(10):\n",
    "    filename = f\"/home/dhruv.patel/final_active/multitask/{appliance}/random_{i}RMSES.csv\"\n",
    "    df = pd.read_csv(filename)\n",
    "    dataframes.append(df)\n",
    "\n",
    "# Concatenate the dataframes horizontally\n",
    "merged_df = pd.concat(dataframes, axis=1)\n",
    "\n",
    "# Calculate the mean for each row\n",
    "merged_df['mean'] = merged_df.mean(axis=1)\n",
    "merged_df['sigma'] = np.sqrt(merged_df.var(axis=1))\n",
    "\n",
    "# Print the resulting dataframe\n",
    "print(merged_df)\n"
   ]
  },
  {
   "cell_type": "code",
   "execution_count": 4,
   "metadata": {},
   "outputs": [
    {
     "data": {
      "text/plain": [
       "array([283.74158  , 192.068064 , 122.8440985, 109.4128455,  78.1681655,\n",
       "        77.0755223,  75.9525188,  71.301369 ,  69.6570697,  67.2688552])"
      ]
     },
     "execution_count": 4,
     "metadata": {},
     "output_type": "execute_result"
    }
   ],
   "source": [
    "np.array(merged_df['mean'])"
   ]
  },
  {
   "cell_type": "code",
   "execution_count": 5,
   "metadata": {},
   "outputs": [
    {
     "data": {
      "text/plain": [
       "array([5.68434189e-14, 2.89785492e+01, 4.15092435e+01, 6.97625131e+01,\n",
       "       1.26256207e+01, 1.08115347e+01, 8.42849080e+00, 5.90990792e+00,\n",
       "       4.41756700e+00, 6.96216577e+00])"
      ]
     },
     "execution_count": 5,
     "metadata": {},
     "output_type": "execute_result"
    }
   ],
   "source": [
    "np.array(merged_df['sigma'])"
   ]
  },
  {
   "cell_type": "code",
   "execution_count": null,
   "metadata": {},
   "outputs": [],
   "source": []
  },
  {
   "cell_type": "code",
   "execution_count": null,
   "metadata": {},
   "outputs": [],
   "source": []
  },
  {
   "cell_type": "code",
   "execution_count": null,
   "metadata": {},
   "outputs": [],
   "source": []
  }
 ],
 "metadata": {
  "kernelspec": {
   "display_name": "active_NILM",
   "language": "python",
   "name": "active_nilm"
  },
  "language_info": {
   "codemirror_mode": {
    "name": "ipython",
    "version": 3
   },
   "file_extension": ".py",
   "mimetype": "text/x-python",
   "name": "python",
   "nbconvert_exporter": "python",
   "pygments_lexer": "ipython3",
   "version": "3.9.16"
  },
  "orig_nbformat": 4
 },
 "nbformat": 4,
 "nbformat_minor": 2
}
