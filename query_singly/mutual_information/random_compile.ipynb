{
 "cells": [
  {
   "cell_type": "code",
   "execution_count": 29,
   "metadata": {},
   "outputs": [],
   "source": [
    "import pandas as pd"
   ]
  },
  {
   "cell_type": "code",
   "execution_count": 30,
   "metadata": {},
   "outputs": [],
   "source": [
    "appliance = 'clotheswasher'"
   ]
  },
  {
   "cell_type": "code",
   "execution_count": 31,
   "metadata": {},
   "outputs": [],
   "source": [
    "import numpy as np"
   ]
  },
  {
   "cell_type": "code",
   "execution_count": 32,
   "metadata": {},
   "outputs": [
    {
     "name": "stdout",
     "output_type": "stream",
     "text": [
      "            0           1          2           3           4           5  \\\n",
      "0   55.619652   55.619652  55.619652   55.619652   55.619652   55.619652   \n",
      "1  205.126358  182.778778  95.876732  182.778778  251.667618  144.791199   \n",
      "2  162.807892  111.433418  32.063995  107.555183  100.506554  168.093918   \n",
      "3   32.591427   39.555515  54.196110   59.954948   22.062063   26.729485   \n",
      "4   45.477650   52.661907  30.200645   30.851301   24.691898   68.006950   \n",
      "5   38.316311  129.639862  65.349586  115.742165   36.980793  112.318771   \n",
      "6   49.930820   43.313683  51.474075  107.543983   55.786411   40.878212   \n",
      "7   31.925438   62.310238  27.926966   51.135223   41.872639   35.387470   \n",
      "8   43.441319   23.547544  58.625259   27.613705   38.292679   37.057163   \n",
      "9   34.293739   92.121246  22.784756   33.606182   25.117344   33.302486   \n",
      "\n",
      "            6           7           8           9        mean         sigma  \n",
      "0   55.619652   55.619652   55.619652   55.619652   55.619652  2.246933e-15  \n",
      "1  144.791199  182.778778  170.475708  182.778778  174.384393  3.889714e+01  \n",
      "2  130.104660   57.905617  147.024658   38.090618  105.558651  4.668866e+01  \n",
      "3   72.369850   44.117573  134.097336   22.626230   50.830054  3.193855e+01  \n",
      "4   66.718323   63.270859   45.759205   35.030407   46.266915  1.519640e+01  \n",
      "5   83.458900   41.473301  140.350494   33.405647   79.703583  3.987173e+01  \n",
      "6   85.326180   33.595627   91.170570   32.061131   59.108069  2.485795e+01  \n",
      "7   49.177612   35.390053   49.838745   24.134233   40.909862  1.141580e+01  \n",
      "8   61.288841   34.322723   53.957409  146.239151   52.438579  3.348769e+01  \n",
      "9   33.084419   36.040329   25.095341   33.267826   36.871367  1.893640e+01  \n"
     ]
    }
   ],
   "source": [
    "# List to store the dataframes from CSV files\n",
    "dataframes = []\n",
    "\n",
    "# Read the CSV files and store the dataframes in the list\n",
    "for i in range(0,10,2):\n",
    "    filename = f\"/home/dhruv.patel/final_active/pos/{appliance}/random_{i}_{i+2}_iterationsRMSES.csv\"\n",
    "    df = pd.read_csv(filename)\n",
    "    dataframes.append(df)\n",
    "\n",
    "# Concatenate the dataframes horizontally\n",
    "merged_df = pd.concat(dataframes, axis=1)\n",
    "\n",
    "# Calculate the mean for each row\n",
    "merged_df['mean'] = merged_df.mean(axis=1)\n",
    "merged_df['sigma'] = np.sqrt(merged_df.var(axis = 1))\n",
    "\n",
    "# Print the resulting dataframe\n",
    "print(merged_df)"
   ]
  },
  {
   "cell_type": "code",
   "execution_count": 33,
   "metadata": {},
   "outputs": [
    {
     "data": {
      "text/plain": [
       "array([ 55.61965179, 174.38439255, 105.55865135,  50.83005371,\n",
       "        46.26691456,  79.70358315,  59.10806923,  40.90986176,\n",
       "        52.43857937,  36.87136688])"
      ]
     },
     "execution_count": 33,
     "metadata": {},
     "output_type": "execute_result"
    }
   ],
   "source": [
    "np.array(merged_df['mean'])\n"
   ]
  },
  {
   "cell_type": "code",
   "execution_count": 34,
   "metadata": {},
   "outputs": [
    {
     "data": {
      "text/plain": [
       "array([2.24693342e-15, 3.88971375e+01, 4.66886557e+01, 3.19385467e+01,\n",
       "       1.51964028e+01, 3.98717265e+01, 2.48579488e+01, 1.14157960e+01,\n",
       "       3.34876872e+01, 1.89364021e+01])"
      ]
     },
     "execution_count": 34,
     "metadata": {},
     "output_type": "execute_result"
    }
   ],
   "source": [
    "np.array(merged_df['sigma'])"
   ]
  },
  {
   "cell_type": "code",
   "execution_count": null,
   "metadata": {},
   "outputs": [],
   "source": []
  },
  {
   "cell_type": "code",
   "execution_count": null,
   "metadata": {},
   "outputs": [],
   "source": []
  },
  {
   "cell_type": "code",
   "execution_count": null,
   "metadata": {},
   "outputs": [],
   "source": []
  }
 ],
 "metadata": {
  "kernelspec": {
   "display_name": "active_NILM",
   "language": "python",
   "name": "active_nilm"
  },
  "language_info": {
   "codemirror_mode": {
    "name": "ipython",
    "version": 3
   },
   "file_extension": ".py",
   "mimetype": "text/x-python",
   "name": "python",
   "nbconvert_exporter": "python",
   "pygments_lexer": "ipython3",
   "version": "3.9.16"
  },
  "orig_nbformat": 4
 },
 "nbformat": 4,
 "nbformat_minor": 2
}
