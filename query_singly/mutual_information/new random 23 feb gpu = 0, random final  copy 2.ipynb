{
 "cells": [
  {
   "cell_type": "code",
   "execution_count": 1,
   "metadata": {},
   "outputs": [],
   "source": [
    "import os\n",
    "os.environ['CUDA_VISIBLE_DEVICES'] = str(1)"
   ]
  },
  {
   "cell_type": "code",
   "execution_count": 2,
   "metadata": {},
   "outputs": [],
   "source": [
    "appliance= 'clotheswasher'\n",
    "start = 8\n",
    "end = 10"
   ]
  },
  {
   "cell_type": "code",
   "execution_count": 3,
   "metadata": {},
   "outputs": [
    {
     "name": "stderr",
     "output_type": "stream",
     "text": [
      "2023-06-21 21:31:39.745985: W tensorflow/compiler/tf2tensorrt/utils/py_utils.cc:38] TF-TRT Warning: Could not find TensorRT\n"
     ]
    }
   ],
   "source": [
    "import tensorflow_probability.substrates.jax as tfp\n",
    "import jax\n",
    "import optax\n",
    "from functools import partial\n",
    "import seaborn as sns\n",
    "import tensorflow as tf\n",
    "dist = tfp.distributions\n",
    "import pandas as pd\n",
    "import numpy as np\n",
    "import matplotlib.pyplot as plt\n",
    "from sklearn.preprocessing import StandardScaler\n",
    "import scipy.stats as st\n",
    "import random\n",
    "from dataloader import *\n",
    "from utilities import *\n",
    "from model import *\n",
    "from retrain_fun import *\n",
    "random.seed(0)\n",
    "np.random.seed(0)\n",
    "jax.random.PRNGKey(0)\n",
    "os.environ[\"XLA_FLAGS\"] = \"--xla_gpu_deterministic_reductions --xla_gpu_autotune_level=2\"\n",
    "os.environ['TF_CUDNN_DETERMINISTIC']='1'\n"
   ]
  },
  {
   "cell_type": "code",
   "execution_count": 4,
   "metadata": {},
   "outputs": [],
   "source": [
    "data_aggregated, houses = data_preprocess(only_positive=True)"
   ]
  },
  {
   "cell_type": "code",
   "execution_count": 5,
   "metadata": {},
   "outputs": [],
   "source": [
    "train_list_furnace = [[2361, 7719, 9019, 2335, 7951]]\n",
    "test_list_furnace = [[4373, 7901, 3456, 3538, 2818]]\n",
    "pool_list_furnace=[]\n",
    "for i in range(len(train_list_furnace)):\n",
    "    pool = [j for j in houses if j not in train_list_furnace[i]+test_list_furnace[i]] #[1,2,3,3]\n",
    "    pool_list_furnace.append(pool) #pool list = [[1,2,3,3]]\n",
    "\n",
    "train_list_clotheswasher = [[2361, 7719, 9019, 2335, 7951]]\n",
    "test_list_clotheswasher = [[4373, 7901, 3456, 3538, 2818]]\n",
    "pool_list_clotheswasher=[]\n",
    "for i in range(len(train_list_clotheswasher)):\n",
    "    pool = [j for j in houses if j not in train_list_clotheswasher[i]+test_list_clotheswasher[i]]\n",
    "    pool_list_clotheswasher.append(pool)\n",
    "\n",
    "train_list_dishwasher = [[2361, 7719, 9019, 2335, 7951]]\n",
    "test_list_dishwasher = [[4373, 7901, 3456, 3538, 2818]]\n",
    "pool_list_dishwasher=[]\n",
    "for i in range(len(train_list_dishwasher)):\n",
    "    pool = [j for j in houses if j not in train_list_dishwasher[i]+test_list_dishwasher[i]]\n",
    "    pool_list_dishwasher.append(pool)\n",
    "\n",
    "train_list_refrigerator =  [[2361, 7719, 9019, 2335, 7951]]\n",
    "test_list_refrigerator = [[4373, 7901, 3456, 3538, 2818]]\n",
    "pool_list_refrigerator=[]\n",
    "for i in range(len(train_list_refrigerator)):\n",
    "    pool = [j for j in houses if j not in train_list_refrigerator[i]+test_list_refrigerator[i]]\n",
    "    pool_list_refrigerator.append(pool)\n",
    "\n",
    "\n",
    "train_list_air = [[2361, 7719, 9019, 2335, 7951]]\n",
    "test_list_air = [[4373, 7901, 3456, 3538, 2818]]\n",
    "pool_list_air=[]\n",
    "for i in range(len(train_list_air)):\n",
    "    pool = [j for j in houses if j not in train_list_air[i]+test_list_air[i]]\n",
    "    pool_list_air.append(pool)\n"
   ]
  },
  {
   "cell_type": "code",
   "execution_count": 6,
   "metadata": {},
   "outputs": [],
   "source": [
    "all_appliance_train_lists = {\n",
    "    'air':train_list_air, 'furnace':train_list_furnace,'dishwasher':train_list_dishwasher, 'refrigerator':train_list_refrigerator, 'clotheswasher':train_list_clotheswasher\n",
    "}\n",
    "all_appliance_test_lists = {\n",
    "    'air':test_list_air, 'furnace':test_list_furnace,'dishwasher':test_list_dishwasher, 'refrigerator':test_list_refrigerator, 'clotheswasher':test_list_clotheswasher\n",
    "}\n",
    "all_appliance_pool_lists = {\n",
    "    'air':pool_list_air, 'furnace':pool_list_furnace,'dishwasher':pool_list_dishwasher, 'refrigerator':pool_list_refrigerator, 'clotheswasher':pool_list_clotheswasher\n",
    "}"
   ]
  },
  {
   "cell_type": "code",
   "execution_count": 7,
   "metadata": {},
   "outputs": [],
   "source": [
    "random_picks = {'furnace':[[8156, 661, 7800, 8386, 8565, 5746, 9278, 7536, 1642, 9160],\n",
    " [7800, 9160, 8565, 661, 1642, 9278, 8156, 7536, 5746, 8386],\n",
    " [8565, 9160, 8386, 661, 5746, 7536, 7800, 1642, 9278, 8156],\n",
    " [7800, 7536, 661, 8386, 9278, 1642, 8565, 5746, 9160, 8156],\n",
    " [7536, 7800, 8156, 9278, 661, 5746, 8386, 8565, 9160, 1642],\n",
    " [661, 8156, 9278, 7800, 8386, 7536, 9160, 1642, 5746, 8565],\n",
    " [661, 1642, 8386, 9160, 9278, 5746, 7536, 8156, 8565, 7800],\n",
    " [7800, 9278, 1642, 5746, 7536, 8156, 9160, 8565, 8386, 661],\n",
    " [5746, 661, 9160, 8156, 9278, 8565, 7536, 8386, 1642, 7800],\n",
    " [7800, 8565, 8156, 8386, 7536, 9278, 661, 1642, 5746, 9160]],\n",
    " 'clotheswasher_og':[[8156, 661, 7800, 8386, 8565, 5746, 9278, 7536, 1642, 9160],\n",
    " [7800, 9160, 8565, 661, 1642, 9278, 8156, 7536, 5746, 8386],\n",
    " [8565, 9160, 8386, 661, 5746, 7536, 7800, 1642, 9278, 8156],\n",
    " [7800, 7536, 661, 8386, 9278, 1642, 8565, 5746, 9160, 8156],\n",
    " [7536, 7800, 8156, 9278, 661, 5746, 8386, 8565, 9160, 1642],\n",
    " [661, 8156, 9278, 7800, 8386, 7536, 9160, 1642, 5746, 8565],\n",
    " [661, 1642, 8386, 9160, 9278, 5746, 7536, 8156, 8565, 7800],\n",
    " [7800, 9278, 1642, 5746, 7536, 8156, 9160, 8565, 8386, 661],\n",
    " [5746, 661, 9160, 8156, 9278, 8565, 7536, 8386, 1642, 7800],\n",
    " [7800, 8565, 8156, 8386, 7536, 9278, 661, 1642, 5746, 9160]],\n",
    " 'clotheswasher':[[8156, 661, 7800, 8386, 8565, 5746, 9278, 7536, 1642, 9160],\n",
    " [7800, 9160, 8565, 661, 1642, 9278, 8156, 7536, 5746, 8386],\n",
    " [8565, 9160, 8386, 661, 5746, 7536, 7800, 1642, 9278, 8156],\n",
    " [7800, 7536, 661, 8386, 9278, 1642, 8565, 5746, 9160, 8156],\n",
    " [7536, 7800, 8156, 9278, 661, 5746, 8386, 8565, 9160, 1642],\n",
    " [661, 8156, 9278, 7800, 8386, 7536, 9160, 1642, 5746, 8565],\n",
    " [661, 1642, 8386, 9160, 9278, 5746, 7536, 8156, 8565, 7800],\n",
    " [7800, 9278, 1642, 5746, 7536, 8156, 9160, 8565, 8386, 661],\n",
    " [5746, 661, 9160, 8156, 9278, 8565, 7536, 8386, 1642, 7800],\n",
    " [7800, 8565, 8156, 8386, 7536, 9278, 661, 1642, 5746, 9160]]\n",
    " , \n",
    " 'refrigerator':[[8156, 661, 7800, 8386, 8565, 5746, 9278, 7536, 1642, 9160],\n",
    " [7800, 9160, 8565, 661, 1642, 9278, 8156, 7536, 5746, 8386],\n",
    " [8565, 9160, 8386, 661, 5746, 7536, 7800, 1642, 9278, 8156],\n",
    " [7800, 7536, 661, 8386, 9278, 1642, 8565, 5746, 9160, 8156],\n",
    " [7536, 7800, 8156, 9278, 661, 5746, 8386, 8565, 9160, 1642],\n",
    " [661, 8156, 9278, 7800, 8386, 7536, 9160, 1642, 5746, 8565],\n",
    " [661, 1642, 8386, 9160, 9278, 5746, 7536, 8156, 8565, 7800],\n",
    " [7800, 9278, 1642, 5746, 7536, 8156, 9160, 8565, 8386, 661],\n",
    " [5746, 661, 9160, 8156, 9278, 8565, 7536, 8386, 1642, 7800],\n",
    " [7800, 8565, 8156, 8386, 7536, 9278, 661, 1642, 5746, 9160]], \n",
    " 'dishwasher':[[8156, 661, 7800, 8386, 8565, 5746, 9278, 7536, 1642, 9160],\n",
    " [7800, 9160, 8565, 661, 1642, 9278, 8156, 7536, 5746, 8386],\n",
    " [8565, 9160, 8386, 661, 5746, 7536, 7800, 1642, 9278, 8156],\n",
    " [7800, 7536, 661, 8386, 9278, 1642, 8565, 5746, 9160, 8156],\n",
    " [7536, 7800, 8156, 9278, 661, 5746, 8386, 8565, 9160, 1642],\n",
    " [661, 8156, 9278, 7800, 8386, 7536, 9160, 1642, 5746, 8565],\n",
    " [661, 1642, 8386, 9160, 9278, 5746, 7536, 8156, 8565, 7800],\n",
    " [7800, 9278, 1642, 5746, 7536, 8156, 9160, 8565, 8386, 661],\n",
    " [5746, 661, 9160, 8156, 9278, 8565, 7536, 8386, 1642, 7800],\n",
    " [7800, 8565, 8156, 8386, 7536, 9278, 661, 1642, 5746, 9160]], \n",
    " 'air': [[8156, 661, 7800, 8386, 8565, 5746, 9278, 7536, 1642, 9160],\n",
    " [7800, 9160, 8565, 661, 1642, 9278, 8156, 7536, 5746, 8386],\n",
    " [8565, 9160, 8386, 661, 5746, 7536, 7800, 1642, 9278, 8156],\n",
    " [7800, 7536, 661, 8386, 9278, 1642, 8565, 5746, 9160, 8156],\n",
    " [7536, 7800, 8156, 9278, 661, 5746, 8386, 8565, 9160, 1642],\n",
    " [661, 8156, 9278, 7800, 8386, 7536, 9160, 1642, 5746, 8565],\n",
    " [661, 1642, 8386, 9160, 9278, 5746, 7536, 8156, 8565, 7800],\n",
    " [7800, 9278, 1642, 5746, 7536, 8156, 9160, 8565, 8386, 661],\n",
    " [5746, 661, 9160, 8156, 9278, 8565, 7536, 8386, 1642, 7800],\n",
    " [7800, 8565, 8156, 8386, 7536, 9278, 661, 1642, 5746, 9160]]\n",
    "}"
   ]
  },
  {
   "cell_type": "code",
   "execution_count": 8,
   "metadata": {},
   "outputs": [
    {
     "name": "stdout",
     "output_type": "stream",
     "text": [
      "STARTING FOR clotheswasher, FOR ITERATIONS - 6 to 8\n",
      "############################################Random iteration number#################################### : 7\n",
      "I am pool houses picck [5746, 8565, 9278, 8156, 8386, 9160, 661, 1642, 7536, 7800]\n",
      "-------------------------------------------Iteration No:----------------------------------------- -> 6.0\n",
      "RMSE : 36.2641 MAE  : 14.5923 NLL : 4.2948\n",
      "I am random house id = 661\n",
      "I am pool houses [5746, 8565, 9278, 8156, 8386, 9160, 661, 1642, 7536, 7800]\n",
      "(array([6]),)\n",
      "[6]\n",
      "6\n",
      "-------------------------------------------Iteration No:----------------------------------------- -> 6.1\n"
     ]
    },
    {
     "name": "stderr",
     "output_type": "stream",
     "text": [
      "/home/dhruv.patel/final_active/pos/retrain_fun.py:201: FutureWarning: The frame.append method is deprecated and will be removed from pandas in a future version. Use pandas.concat instead.\n",
      "  train = train.append(new_df)\n"
     ]
    },
    {
     "name": "stdout",
     "output_type": "stream",
     "text": [
      "Train houses are\n",
      "[7719 9019 2335 2361 7951  661]\n",
      "(82193, 99)\n",
      "RMSE : 33.1979 MAE  : 14.1698 NLL : 4.4133\n",
      "-------------------------------------------Iteration No:----------------------------------------- -> 6.2\n"
     ]
    },
    {
     "name": "stderr",
     "output_type": "stream",
     "text": [
      "/home/dhruv.patel/final_active/pos/retrain_fun.py:201: FutureWarning: The frame.append method is deprecated and will be removed from pandas in a future version. Use pandas.concat instead.\n",
      "  train = train.append(new_df)\n"
     ]
    },
    {
     "name": "stdout",
     "output_type": "stream",
     "text": [
      "Train houses are\n",
      "[7719 9019 2335 2361 7951  661 1642]\n",
      "(117553, 99)\n"
     ]
    },
    {
     "name": "stderr",
     "output_type": "stream",
     "text": [
      "2023-06-21 21:33:08.740192: W external/org_tensorflow/tensorflow/compiler/xla/service/gpu/gpu_conv_algorithm_picker.cc:825] None of the algorithms provided by cuDNN heuristics worked; trying fallback algorithms.  Conv: (f32[117553,50,99]{2,1,0}, u8[0]{0}) custom-call(f32[117553,50,99]{2,1,0}, f32[50,50,5]{2,1,0}), window={size=5 pad=2_2}, dim_labels=bf0_oi0->bf0, custom_call_target=\"__cudnn$convForward\", backend_config=\"{\\\"conv_result_scale\\\":1,\\\"activation_mode\\\":\\\"0\\\",\\\"side_input_scale\\\":0}\"\n"
     ]
    },
    {
     "name": "stdout",
     "output_type": "stream",
     "text": [
      "RMSE : 30.1994 MAE  : 11.5479 NLL : 4.0395\n",
      "-------------------------------------------Iteration No:----------------------------------------- -> 6.3\n"
     ]
    },
    {
     "name": "stderr",
     "output_type": "stream",
     "text": [
      "/home/dhruv.patel/final_active/pos/retrain_fun.py:201: FutureWarning: The frame.append method is deprecated and will be removed from pandas in a future version. Use pandas.concat instead.\n",
      "  train = train.append(new_df)\n"
     ]
    },
    {
     "name": "stdout",
     "output_type": "stream",
     "text": [
      "Train houses are\n",
      "[7719 9019 2335 2361 7951  661 1642 8386]\n",
      "(166338, 99)\n"
     ]
    },
    {
     "name": "stderr",
     "output_type": "stream",
     "text": [
      "2023-06-21 21:33:26.022576: W external/org_tensorflow/tensorflow/compiler/xla/service/gpu/gpu_conv_algorithm_picker.cc:825] None of the algorithms provided by cuDNN heuristics worked; trying fallback algorithms.  Conv: (f32[166338,30,99]{2,1,0}, u8[0]{0}) custom-call(f32[166338,30,106]{2,1,0}, f32[30,30,8]{2,1,0}), window={size=8}, dim_labels=bf0_oi0->bf0, custom_call_target=\"__cudnn$convForward\", backend_config=\"{\\\"conv_result_scale\\\":1,\\\"activation_mode\\\":\\\"0\\\",\\\"side_input_scale\\\":0}\"\n",
      "2023-06-21 21:33:26.902308: W external/org_tensorflow/tensorflow/compiler/xla/service/gpu/gpu_conv_algorithm_picker.cc:825] None of the algorithms provided by cuDNN heuristics worked; trying fallback algorithms.  Conv: (f32[166338,40,99]{2,1,0}, u8[0]{0}) custom-call(f32[166338,30,104]{2,1,0}, f32[40,30,6]{2,1,0}), window={size=6}, dim_labels=bf0_oi0->bf0, custom_call_target=\"__cudnn$convForward\", backend_config=\"{\\\"conv_result_scale\\\":1,\\\"activation_mode\\\":\\\"0\\\",\\\"side_input_scale\\\":0}\"\n",
      "2023-06-21 21:33:27.966796: W external/org_tensorflow/tensorflow/compiler/xla/service/gpu/gpu_conv_algorithm_picker.cc:825] None of the algorithms provided by cuDNN heuristics worked; trying fallback algorithms.  Conv: (f32[166338,50,99]{2,1,0}, u8[0]{0}) custom-call(f32[166338,40,99]{2,1,0}, f32[50,40,5]{2,1,0}), window={size=5 pad=2_2}, dim_labels=bf0_oi0->bf0, custom_call_target=\"__cudnn$convForward\", backend_config=\"{\\\"conv_result_scale\\\":1,\\\"activation_mode\\\":\\\"0\\\",\\\"side_input_scale\\\":0}\"\n",
      "2023-06-21 21:33:29.131986: W external/org_tensorflow/tensorflow/compiler/xla/service/gpu/gpu_conv_algorithm_picker.cc:825] None of the algorithms provided by cuDNN heuristics worked; trying fallback algorithms.  Conv: (f32[166338,50,99]{2,1,0}, u8[0]{0}) custom-call(f32[166338,50,99]{2,1,0}, f32[50,50,5]{2,1,0}), window={size=5 pad=2_2}, dim_labels=bf0_oi0->bf0, custom_call_target=\"__cudnn$convForward\", backend_config=\"{\\\"conv_result_scale\\\":1,\\\"activation_mode\\\":\\\"0\\\",\\\"side_input_scale\\\":0}\"\n"
     ]
    },
    {
     "name": "stdout",
     "output_type": "stream",
     "text": [
      "RMSE : 32.3026 MAE  : 11.2787 NLL : 3.9118\n",
      "-------------------------------------------Iteration No:----------------------------------------- -> 6.4\n"
     ]
    },
    {
     "name": "stderr",
     "output_type": "stream",
     "text": [
      "/home/dhruv.patel/final_active/pos/retrain_fun.py:201: FutureWarning: The frame.append method is deprecated and will be removed from pandas in a future version. Use pandas.concat instead.\n",
      "  train = train.append(new_df)\n"
     ]
    },
    {
     "name": "stdout",
     "output_type": "stream",
     "text": [
      "Train houses are\n",
      "[7719 9019 2335 2361 7951  661 1642 8386 9160]\n",
      "(228193, 99)\n"
     ]
    },
    {
     "name": "stderr",
     "output_type": "stream",
     "text": [
      "2023-06-21 21:33:51.931838: W external/org_tensorflow/tensorflow/compiler/xla/service/gpu/gpu_conv_algorithm_picker.cc:825] None of the algorithms provided by cuDNN heuristics worked; trying fallback algorithms.  Conv: (f32[228193,30,99]{2,1,0}, u8[0]{0}) custom-call(f32[228193,30,106]{2,1,0}, f32[30,30,8]{2,1,0}), window={size=8}, dim_labels=bf0_oi0->bf0, custom_call_target=\"__cudnn$convForward\", backend_config=\"{\\\"conv_result_scale\\\":1,\\\"activation_mode\\\":\\\"0\\\",\\\"side_input_scale\\\":0}\"\n",
      "2023-06-21 21:33:53.110049: W external/org_tensorflow/tensorflow/compiler/xla/service/gpu/gpu_conv_algorithm_picker.cc:825] None of the algorithms provided by cuDNN heuristics worked; trying fallback algorithms.  Conv: (f32[228193,40,99]{2,1,0}, u8[0]{0}) custom-call(f32[228193,30,104]{2,1,0}, f32[40,30,6]{2,1,0}), window={size=6}, dim_labels=bf0_oi0->bf0, custom_call_target=\"__cudnn$convForward\", backend_config=\"{\\\"conv_result_scale\\\":1,\\\"activation_mode\\\":\\\"0\\\",\\\"side_input_scale\\\":0}\"\n",
      "2023-06-21 21:33:54.497203: W external/org_tensorflow/tensorflow/compiler/xla/service/gpu/gpu_conv_algorithm_picker.cc:825] None of the algorithms provided by cuDNN heuristics worked; trying fallback algorithms.  Conv: (f32[228193,50,99]{2,1,0}, u8[0]{0}) custom-call(f32[228193,40,99]{2,1,0}, f32[50,40,5]{2,1,0}), window={size=5 pad=2_2}, dim_labels=bf0_oi0->bf0, custom_call_target=\"__cudnn$convForward\", backend_config=\"{\\\"conv_result_scale\\\":1,\\\"activation_mode\\\":\\\"0\\\",\\\"side_input_scale\\\":0}\"\n",
      "2023-06-21 21:33:56.014411: W external/org_tensorflow/tensorflow/compiler/xla/service/gpu/gpu_conv_algorithm_picker.cc:825] None of the algorithms provided by cuDNN heuristics worked; trying fallback algorithms.  Conv: (f32[228193,50,99]{2,1,0}, u8[0]{0}) custom-call(f32[228193,50,99]{2,1,0}, f32[50,50,5]{2,1,0}), window={size=5 pad=2_2}, dim_labels=bf0_oi0->bf0, custom_call_target=\"__cudnn$convForward\", backend_config=\"{\\\"conv_result_scale\\\":1,\\\"activation_mode\\\":\\\"0\\\",\\\"side_input_scale\\\":0}\"\n"
     ]
    },
    {
     "name": "stdout",
     "output_type": "stream",
     "text": [
      "RMSE : 36.0459 MAE  : 12.1261 NLL : 3.8220\n",
      "-------------------------------------------Iteration No:----------------------------------------- -> 6.5\n"
     ]
    },
    {
     "name": "stderr",
     "output_type": "stream",
     "text": [
      "/home/dhruv.patel/final_active/pos/retrain_fun.py:201: FutureWarning: The frame.append method is deprecated and will be removed from pandas in a future version. Use pandas.concat instead.\n",
      "  train = train.append(new_df)\n"
     ]
    },
    {
     "name": "stdout",
     "output_type": "stream",
     "text": [
      "Train houses are\n",
      "[7719 9019 2335 2361 7951  661 1642 8386 9160 9278]\n",
      "(285869, 99)\n"
     ]
    },
    {
     "name": "stderr",
     "output_type": "stream",
     "text": [
      "2023-06-21 21:34:24.918700: W external/org_tensorflow/tensorflow/compiler/xla/service/gpu/gpu_conv_algorithm_picker.cc:825] None of the algorithms provided by cuDNN heuristics worked; trying fallback algorithms.  Conv: (f32[285869,30,99]{2,1,0}, u8[0]{0}) custom-call(f32[285869,30,106]{2,1,0}, f32[30,30,8]{2,1,0}), window={size=8}, dim_labels=bf0_oi0->bf0, custom_call_target=\"__cudnn$convForward\", backend_config=\"{\\\"conv_result_scale\\\":1,\\\"activation_mode\\\":\\\"0\\\",\\\"side_input_scale\\\":0}\"\n",
      "2023-06-21 21:34:26.360966: W external/org_tensorflow/tensorflow/compiler/xla/service/gpu/gpu_conv_algorithm_picker.cc:825] None of the algorithms provided by cuDNN heuristics worked; trying fallback algorithms.  Conv: (f32[285869,40,99]{2,1,0}, u8[0]{0}) custom-call(f32[285869,30,104]{2,1,0}, f32[40,30,6]{2,1,0}), window={size=6}, dim_labels=bf0_oi0->bf0, custom_call_target=\"__cudnn$convForward\", backend_config=\"{\\\"conv_result_scale\\\":1,\\\"activation_mode\\\":\\\"0\\\",\\\"side_input_scale\\\":0}\"\n",
      "2023-06-21 21:34:28.036597: W external/org_tensorflow/tensorflow/compiler/xla/service/gpu/gpu_conv_algorithm_picker.cc:825] None of the algorithms provided by cuDNN heuristics worked; trying fallback algorithms.  Conv: (f32[285869,50,99]{2,1,0}, u8[0]{0}) custom-call(f32[285869,40,99]{2,1,0}, f32[50,40,5]{2,1,0}), window={size=5 pad=2_2}, dim_labels=bf0_oi0->bf0, custom_call_target=\"__cudnn$convForward\", backend_config=\"{\\\"conv_result_scale\\\":1,\\\"activation_mode\\\":\\\"0\\\",\\\"side_input_scale\\\":0}\"\n",
      "2023-06-21 21:34:29.887357: W external/org_tensorflow/tensorflow/compiler/xla/service/gpu/gpu_conv_algorithm_picker.cc:825] None of the algorithms provided by cuDNN heuristics worked; trying fallback algorithms.  Conv: (f32[285869,50,99]{2,1,0}, u8[0]{0}) custom-call(f32[285869,50,99]{2,1,0}, f32[50,50,5]{2,1,0}), window={size=5 pad=2_2}, dim_labels=bf0_oi0->bf0, custom_call_target=\"__cudnn$convForward\", backend_config=\"{\\\"conv_result_scale\\\":1,\\\"activation_mode\\\":\\\"0\\\",\\\"side_input_scale\\\":0}\"\n"
     ]
    },
    {
     "name": "stdout",
     "output_type": "stream",
     "text": [
      "RMSE : 22.9388 MAE  : 5.8319 NLL : 3.4037\n",
      "-------------------------------------------Iteration No:----------------------------------------- -> 6.6\n"
     ]
    },
    {
     "name": "stderr",
     "output_type": "stream",
     "text": [
      "/home/dhruv.patel/final_active/pos/retrain_fun.py:201: FutureWarning: The frame.append method is deprecated and will be removed from pandas in a future version. Use pandas.concat instead.\n",
      "  train = train.append(new_df)\n"
     ]
    },
    {
     "name": "stdout",
     "output_type": "stream",
     "text": [
      "Train houses are\n",
      "[7719 9019 2335 2361 7951  661 1642 8386 9160 9278 5746]\n",
      "(345257, 99)\n"
     ]
    },
    {
     "name": "stderr",
     "output_type": "stream",
     "text": [
      "2023-06-21 21:35:05.350106: W external/org_tensorflow/tensorflow/compiler/xla/service/gpu/gpu_conv_algorithm_picker.cc:825] None of the algorithms provided by cuDNN heuristics worked; trying fallback algorithms.  Conv: (f32[345257,30,99]{2,1,0}, u8[0]{0}) custom-call(f32[345257,30,106]{2,1,0}, f32[30,30,8]{2,1,0}), window={size=8}, dim_labels=bf0_oi0->bf0, custom_call_target=\"__cudnn$convForward\", backend_config=\"{\\\"conv_result_scale\\\":1,\\\"activation_mode\\\":\\\"0\\\",\\\"side_input_scale\\\":0}\"\n",
      "2023-06-21 21:35:07.104678: W external/org_tensorflow/tensorflow/compiler/xla/service/gpu/gpu_conv_algorithm_picker.cc:825] None of the algorithms provided by cuDNN heuristics worked; trying fallback algorithms.  Conv: (f32[345257,40,99]{2,1,0}, u8[0]{0}) custom-call(f32[345257,30,104]{2,1,0}, f32[40,30,6]{2,1,0}), window={size=6}, dim_labels=bf0_oi0->bf0, custom_call_target=\"__cudnn$convForward\", backend_config=\"{\\\"conv_result_scale\\\":1,\\\"activation_mode\\\":\\\"0\\\",\\\"side_input_scale\\\":0}\"\n",
      "2023-06-21 21:35:09.140522: W external/org_tensorflow/tensorflow/compiler/xla/service/gpu/gpu_conv_algorithm_picker.cc:825] None of the algorithms provided by cuDNN heuristics worked; trying fallback algorithms.  Conv: (f32[345257,50,99]{2,1,0}, u8[0]{0}) custom-call(f32[345257,40,99]{2,1,0}, f32[50,40,5]{2,1,0}), window={size=5 pad=2_2}, dim_labels=bf0_oi0->bf0, custom_call_target=\"__cudnn$convForward\", backend_config=\"{\\\"conv_result_scale\\\":1,\\\"activation_mode\\\":\\\"0\\\",\\\"side_input_scale\\\":0}\"\n",
      "2023-06-21 21:35:11.375484: W external/org_tensorflow/tensorflow/compiler/xla/service/gpu/gpu_conv_algorithm_picker.cc:825] None of the algorithms provided by cuDNN heuristics worked; trying fallback algorithms.  Conv: (f32[345257,50,99]{2,1,0}, u8[0]{0}) custom-call(f32[345257,50,99]{2,1,0}, f32[50,50,5]{2,1,0}), window={size=5 pad=2_2}, dim_labels=bf0_oi0->bf0, custom_call_target=\"__cudnn$convForward\", backend_config=\"{\\\"conv_result_scale\\\":1,\\\"activation_mode\\\":\\\"0\\\",\\\"side_input_scale\\\":0}\"\n"
     ]
    },
    {
     "name": "stdout",
     "output_type": "stream",
     "text": [
      "RMSE : 23.1261 MAE  : 6.1907 NLL : 3.5820\n",
      "-------------------------------------------Iteration No:----------------------------------------- -> 6.7\n"
     ]
    },
    {
     "name": "stderr",
     "output_type": "stream",
     "text": [
      "/home/dhruv.patel/final_active/pos/retrain_fun.py:201: FutureWarning: The frame.append method is deprecated and will be removed from pandas in a future version. Use pandas.concat instead.\n",
      "  train = train.append(new_df)\n"
     ]
    },
    {
     "name": "stdout",
     "output_type": "stream",
     "text": [
      "Train houses are\n",
      "[7719 9019 2335 2361 7951  661 1642 8386 9160 9278 5746 7536]\n",
      "(412199, 99)\n"
     ]
    },
    {
     "name": "stderr",
     "output_type": "stream",
     "text": [
      "2023-06-21 21:35:52.933061: W external/org_tensorflow/tensorflow/compiler/xla/service/gpu/gpu_conv_algorithm_picker.cc:825] None of the algorithms provided by cuDNN heuristics worked; trying fallback algorithms.  Conv: (f32[412199,30,99]{2,1,0}, u8[0]{0}) custom-call(f32[412199,30,106]{2,1,0}, f32[30,30,8]{2,1,0}), window={size=8}, dim_labels=bf0_oi0->bf0, custom_call_target=\"__cudnn$convForward\", backend_config=\"{\\\"conv_result_scale\\\":1,\\\"activation_mode\\\":\\\"0\\\",\\\"side_input_scale\\\":0}\"\n",
      "2023-06-21 21:35:54.913731: W external/org_tensorflow/tensorflow/compiler/xla/service/gpu/gpu_conv_algorithm_picker.cc:825] None of the algorithms provided by cuDNN heuristics worked; trying fallback algorithms.  Conv: (f32[412199,40,99]{2,1,0}, u8[0]{0}) custom-call(f32[412199,30,104]{2,1,0}, f32[40,30,6]{2,1,0}), window={size=6}, dim_labels=bf0_oi0->bf0, custom_call_target=\"__cudnn$convForward\", backend_config=\"{\\\"conv_result_scale\\\":1,\\\"activation_mode\\\":\\\"0\\\",\\\"side_input_scale\\\":0}\"\n",
      "2023-06-21 21:35:57.187890: W external/org_tensorflow/tensorflow/compiler/xla/service/gpu/gpu_conv_algorithm_picker.cc:825] None of the algorithms provided by cuDNN heuristics worked; trying fallback algorithms.  Conv: (f32[412199,50,99]{2,1,0}, u8[0]{0}) custom-call(f32[412199,40,99]{2,1,0}, f32[50,40,5]{2,1,0}), window={size=5 pad=2_2}, dim_labels=bf0_oi0->bf0, custom_call_target=\"__cudnn$convForward\", backend_config=\"{\\\"conv_result_scale\\\":1,\\\"activation_mode\\\":\\\"0\\\",\\\"side_input_scale\\\":0}\"\n",
      "2023-06-21 21:35:59.698482: W external/org_tensorflow/tensorflow/compiler/xla/service/gpu/gpu_conv_algorithm_picker.cc:825] None of the algorithms provided by cuDNN heuristics worked; trying fallback algorithms.  Conv: (f32[412199,50,99]{2,1,0}, u8[0]{0}) custom-call(f32[412199,50,99]{2,1,0}, f32[50,50,5]{2,1,0}), window={size=5 pad=2_2}, dim_labels=bf0_oi0->bf0, custom_call_target=\"__cudnn$convForward\", backend_config=\"{\\\"conv_result_scale\\\":1,\\\"activation_mode\\\":\\\"0\\\",\\\"side_input_scale\\\":0}\"\n"
     ]
    },
    {
     "name": "stdout",
     "output_type": "stream",
     "text": [
      "RMSE : 41.5811 MAE  : 13.6159 NLL : 3.7788\n",
      "-------------------------------------------Iteration No:----------------------------------------- -> 6.8\n"
     ]
    },
    {
     "name": "stderr",
     "output_type": "stream",
     "text": [
      "/home/dhruv.patel/final_active/pos/retrain_fun.py:201: FutureWarning: The frame.append method is deprecated and will be removed from pandas in a future version. Use pandas.concat instead.\n",
      "  train = train.append(new_df)\n"
     ]
    },
    {
     "name": "stdout",
     "output_type": "stream",
     "text": [
      "Train houses are\n",
      "[7719 9019 2335 2361 7951  661 1642 8386 9160 9278 5746 7536 8156]\n",
      "(484843, 99)\n"
     ]
    },
    {
     "name": "stderr",
     "output_type": "stream",
     "text": [
      "2023-06-21 21:36:48.479549: W external/org_tensorflow/tensorflow/compiler/xla/service/gpu/gpu_conv_algorithm_picker.cc:825] None of the algorithms provided by cuDNN heuristics worked; trying fallback algorithms.  Conv: (f32[484843,30,99]{2,1,0}, u8[0]{0}) custom-call(f32[484843,30,106]{2,1,0}, f32[30,30,8]{2,1,0}), window={size=8}, dim_labels=bf0_oi0->bf0, custom_call_target=\"__cudnn$convForward\", backend_config=\"{\\\"conv_result_scale\\\":1,\\\"activation_mode\\\":\\\"0\\\",\\\"side_input_scale\\\":0}\"\n",
      "2023-06-21 21:36:50.793670: W external/org_tensorflow/tensorflow/compiler/xla/service/gpu/gpu_conv_algorithm_picker.cc:825] None of the algorithms provided by cuDNN heuristics worked; trying fallback algorithms.  Conv: (f32[484843,40,99]{2,1,0}, u8[0]{0}) custom-call(f32[484843,30,104]{2,1,0}, f32[40,30,6]{2,1,0}), window={size=6}, dim_labels=bf0_oi0->bf0, custom_call_target=\"__cudnn$convForward\", backend_config=\"{\\\"conv_result_scale\\\":1,\\\"activation_mode\\\":\\\"0\\\",\\\"side_input_scale\\\":0}\"\n"
     ]
    },
    {
     "name": "stdout",
     "output_type": "stream",
     "text": [
      "RMSE : 42.5662 MAE  : 11.9884 NLL : 3.2351\n",
      "-------------------------------------------Iteration No:----------------------------------------- -> 6.9\n"
     ]
    },
    {
     "name": "stderr",
     "output_type": "stream",
     "text": [
      "/home/dhruv.patel/final_active/pos/retrain_fun.py:201: FutureWarning: The frame.append method is deprecated and will be removed from pandas in a future version. Use pandas.concat instead.\n",
      "  train = train.append(new_df)\n"
     ]
    },
    {
     "name": "stdout",
     "output_type": "stream",
     "text": [
      "Train houses are\n",
      "[7719 9019 2335 2361 7951  661 1642 8386 9160 9278 5746 7536 8156 8565]\n",
      "(564615, 99)\n"
     ]
    },
    {
     "name": "stderr",
     "output_type": "stream",
     "text": [
      "2023-06-21 21:37:52.210940: W external/org_tensorflow/tensorflow/compiler/xla/service/gpu/gpu_conv_algorithm_picker.cc:825] None of the algorithms provided by cuDNN heuristics worked; trying fallback algorithms.  Conv: (f32[564615,30,99]{2,1,0}, u8[0]{0}) custom-call(f32[564615,30,106]{2,1,0}, f32[30,30,8]{2,1,0}), window={size=8}, dim_labels=bf0_oi0->bf0, custom_call_target=\"__cudnn$convForward\", backend_config=\"{\\\"conv_result_scale\\\":1,\\\"activation_mode\\\":\\\"0\\\",\\\"side_input_scale\\\":0}\"\n"
     ]
    },
    {
     "name": "stdout",
     "output_type": "stream",
     "text": [
      "RMSE : 30.7650 MAE  : 8.6923 NLL : 3.1270\n",
      "############################################Random iteration number#################################### : 8\n",
      "I am pool houses picck [5746, 8565, 9278, 8156, 8386, 9160, 661, 1642, 7536, 7800]\n",
      "-------------------------------------------Iteration No:----------------------------------------- -> 7.0\n",
      "RMSE : 36.2641 MAE  : 14.5923 NLL : 4.2948\n",
      "I am random house id = 7800\n",
      "I am pool houses [5746, 8565, 9278, 8156, 8386, 9160, 661, 1642, 7536, 7800]\n",
      "(array([9]),)\n",
      "[9]\n",
      "9\n",
      "-------------------------------------------Iteration No:----------------------------------------- -> 7.1\n"
     ]
    },
    {
     "name": "stderr",
     "output_type": "stream",
     "text": [
      "/home/dhruv.patel/final_active/pos/retrain_fun.py:201: FutureWarning: The frame.append method is deprecated and will be removed from pandas in a future version. Use pandas.concat instead.\n",
      "  train = train.append(new_df)\n"
     ]
    },
    {
     "name": "stdout",
     "output_type": "stream",
     "text": [
      "Train houses are\n",
      "[7719 9019 2335 2361 7951 7800]\n",
      "(82897, 99)\n",
      "RMSE : 32.3023 MAE  : 13.5111 NLL : 4.3049\n",
      "-------------------------------------------Iteration No:----------------------------------------- -> 7.2\n"
     ]
    },
    {
     "name": "stderr",
     "output_type": "stream",
     "text": [
      "/home/dhruv.patel/final_active/pos/retrain_fun.py:201: FutureWarning: The frame.append method is deprecated and will be removed from pandas in a future version. Use pandas.concat instead.\n",
      "  train = train.append(new_df)\n"
     ]
    },
    {
     "name": "stdout",
     "output_type": "stream",
     "text": [
      "Train houses are\n",
      "[7719 9019 2335 2361 7951 7800 9278]\n",
      "(116449, 99)\n"
     ]
    },
    {
     "name": "stderr",
     "output_type": "stream",
     "text": [
      "2023-06-21 21:39:28.789684: W external/org_tensorflow/tensorflow/compiler/xla/service/gpu/gpu_conv_algorithm_picker.cc:825] None of the algorithms provided by cuDNN heuristics worked; trying fallback algorithms.  Conv: (f32[116449,50,99]{2,1,0}, u8[0]{0}) custom-call(f32[116449,50,99]{2,1,0}, f32[50,50,5]{2,1,0}), window={size=5 pad=2_2}, dim_labels=bf0_oi0->bf0, custom_call_target=\"__cudnn$convForward\", backend_config=\"{\\\"conv_result_scale\\\":1,\\\"activation_mode\\\":\\\"0\\\",\\\"side_input_scale\\\":0}\"\n"
     ]
    },
    {
     "name": "stdout",
     "output_type": "stream",
     "text": [
      "RMSE : 20.9508 MAE  : 6.4653 NLL : 4.1096\n",
      "-------------------------------------------Iteration No:----------------------------------------- -> 7.3\n"
     ]
    },
    {
     "name": "stderr",
     "output_type": "stream",
     "text": [
      "/home/dhruv.patel/final_active/pos/retrain_fun.py:201: FutureWarning: The frame.append method is deprecated and will be removed from pandas in a future version. Use pandas.concat instead.\n",
      "  train = train.append(new_df)\n"
     ]
    },
    {
     "name": "stdout",
     "output_type": "stream",
     "text": [
      "Train houses are\n",
      "[7719 9019 2335 2361 7951 7800 9278 1642]\n",
      "(163479, 99)\n"
     ]
    },
    {
     "name": "stderr",
     "output_type": "stream",
     "text": [
      "2023-06-21 21:39:47.224144: W external/org_tensorflow/tensorflow/compiler/xla/service/gpu/gpu_conv_algorithm_picker.cc:825] None of the algorithms provided by cuDNN heuristics worked; trying fallback algorithms.  Conv: (f32[163479,40,99]{2,1,0}, u8[0]{0}) custom-call(f32[163479,30,104]{2,1,0}, f32[40,30,6]{2,1,0}), window={size=6}, dim_labels=bf0_oi0->bf0, custom_call_target=\"__cudnn$convForward\", backend_config=\"{\\\"conv_result_scale\\\":1,\\\"activation_mode\\\":\\\"0\\\",\\\"side_input_scale\\\":0}\"\n",
      "2023-06-21 21:39:48.307102: W external/org_tensorflow/tensorflow/compiler/xla/service/gpu/gpu_conv_algorithm_picker.cc:825] None of the algorithms provided by cuDNN heuristics worked; trying fallback algorithms.  Conv: (f32[163479,50,99]{2,1,0}, u8[0]{0}) custom-call(f32[163479,40,99]{2,1,0}, f32[50,40,5]{2,1,0}), window={size=5 pad=2_2}, dim_labels=bf0_oi0->bf0, custom_call_target=\"__cudnn$convForward\", backend_config=\"{\\\"conv_result_scale\\\":1,\\\"activation_mode\\\":\\\"0\\\",\\\"side_input_scale\\\":0}\"\n",
      "2023-06-21 21:39:49.470247: W external/org_tensorflow/tensorflow/compiler/xla/service/gpu/gpu_conv_algorithm_picker.cc:825] None of the algorithms provided by cuDNN heuristics worked; trying fallback algorithms.  Conv: (f32[163479,50,99]{2,1,0}, u8[0]{0}) custom-call(f32[163479,50,99]{2,1,0}, f32[50,50,5]{2,1,0}), window={size=5 pad=2_2}, dim_labels=bf0_oi0->bf0, custom_call_target=\"__cudnn$convForward\", backend_config=\"{\\\"conv_result_scale\\\":1,\\\"activation_mode\\\":\\\"0\\\",\\\"side_input_scale\\\":0}\"\n"
     ]
    },
    {
     "name": "stdout",
     "output_type": "stream",
     "text": [
      "RMSE : 20.5163 MAE  : 5.1026 NLL : 3.9250\n",
      "-------------------------------------------Iteration No:----------------------------------------- -> 7.4\n"
     ]
    },
    {
     "name": "stderr",
     "output_type": "stream",
     "text": [
      "/home/dhruv.patel/final_active/pos/retrain_fun.py:201: FutureWarning: The frame.append method is deprecated and will be removed from pandas in a future version. Use pandas.concat instead.\n",
      "  train = train.append(new_df)\n"
     ]
    },
    {
     "name": "stdout",
     "output_type": "stream",
     "text": [
      "Train houses are\n",
      "[7719 9019 2335 2361 7951 7800 9278 1642 5746]\n",
      "(221652, 99)\n"
     ]
    },
    {
     "name": "stderr",
     "output_type": "stream",
     "text": [
      "2023-06-21 21:40:11.527878: W external/org_tensorflow/tensorflow/compiler/xla/service/gpu/gpu_conv_algorithm_picker.cc:825] None of the algorithms provided by cuDNN heuristics worked; trying fallback algorithms.  Conv: (f32[221652,30,99]{2,1,0}, u8[0]{0}) custom-call(f32[221652,30,106]{2,1,0}, f32[30,30,8]{2,1,0}), window={size=8}, dim_labels=bf0_oi0->bf0, custom_call_target=\"__cudnn$convForward\", backend_config=\"{\\\"conv_result_scale\\\":1,\\\"activation_mode\\\":\\\"0\\\",\\\"side_input_scale\\\":0}\"\n",
      "2023-06-21 21:40:12.666854: W external/org_tensorflow/tensorflow/compiler/xla/service/gpu/gpu_conv_algorithm_picker.cc:825] None of the algorithms provided by cuDNN heuristics worked; trying fallback algorithms.  Conv: (f32[221652,40,99]{2,1,0}, u8[0]{0}) custom-call(f32[221652,30,104]{2,1,0}, f32[40,30,6]{2,1,0}), window={size=6}, dim_labels=bf0_oi0->bf0, custom_call_target=\"__cudnn$convForward\", backend_config=\"{\\\"conv_result_scale\\\":1,\\\"activation_mode\\\":\\\"0\\\",\\\"side_input_scale\\\":0}\"\n",
      "2023-06-21 21:40:14.005764: W external/org_tensorflow/tensorflow/compiler/xla/service/gpu/gpu_conv_algorithm_picker.cc:825] None of the algorithms provided by cuDNN heuristics worked; trying fallback algorithms.  Conv: (f32[221652,50,99]{2,1,0}, u8[0]{0}) custom-call(f32[221652,40,99]{2,1,0}, f32[50,40,5]{2,1,0}), window={size=5 pad=2_2}, dim_labels=bf0_oi0->bf0, custom_call_target=\"__cudnn$convForward\", backend_config=\"{\\\"conv_result_scale\\\":1,\\\"activation_mode\\\":\\\"0\\\",\\\"side_input_scale\\\":0}\"\n",
      "2023-06-21 21:40:15.472316: W external/org_tensorflow/tensorflow/compiler/xla/service/gpu/gpu_conv_algorithm_picker.cc:825] None of the algorithms provided by cuDNN heuristics worked; trying fallback algorithms.  Conv: (f32[221652,50,99]{2,1,0}, u8[0]{0}) custom-call(f32[221652,50,99]{2,1,0}, f32[50,50,5]{2,1,0}), window={size=5 pad=2_2}, dim_labels=bf0_oi0->bf0, custom_call_target=\"__cudnn$convForward\", backend_config=\"{\\\"conv_result_scale\\\":1,\\\"activation_mode\\\":\\\"0\\\",\\\"side_input_scale\\\":0}\"\n"
     ]
    },
    {
     "name": "stdout",
     "output_type": "stream",
     "text": [
      "RMSE : 24.2134 MAE  : 6.6247 NLL : 3.8526\n",
      "-------------------------------------------Iteration No:----------------------------------------- -> 7.5\n"
     ]
    },
    {
     "name": "stderr",
     "output_type": "stream",
     "text": [
      "/home/dhruv.patel/final_active/pos/retrain_fun.py:201: FutureWarning: The frame.append method is deprecated and will be removed from pandas in a future version. Use pandas.concat instead.\n",
      "  train = train.append(new_df)\n"
     ]
    },
    {
     "name": "stdout",
     "output_type": "stream",
     "text": [
      "Train houses are\n",
      "[7719 9019 2335 2361 7951 7800 9278 1642 5746 7536]\n",
      "(277437, 99)\n"
     ]
    },
    {
     "name": "stderr",
     "output_type": "stream",
     "text": [
      "2023-06-21 21:40:43.784479: W external/org_tensorflow/tensorflow/compiler/xla/service/gpu/gpu_conv_algorithm_picker.cc:825] None of the algorithms provided by cuDNN heuristics worked; trying fallback algorithms.  Conv: (f32[277437,30,99]{2,1,0}, u8[0]{0}) custom-call(f32[277437,30,106]{2,1,0}, f32[30,30,8]{2,1,0}), window={size=8}, dim_labels=bf0_oi0->bf0, custom_call_target=\"__cudnn$convForward\", backend_config=\"{\\\"conv_result_scale\\\":1,\\\"activation_mode\\\":\\\"0\\\",\\\"side_input_scale\\\":0}\"\n",
      "2023-06-21 21:40:45.182562: W external/org_tensorflow/tensorflow/compiler/xla/service/gpu/gpu_conv_algorithm_picker.cc:825] None of the algorithms provided by cuDNN heuristics worked; trying fallback algorithms.  Conv: (f32[277437,40,99]{2,1,0}, u8[0]{0}) custom-call(f32[277437,30,104]{2,1,0}, f32[40,30,6]{2,1,0}), window={size=6}, dim_labels=bf0_oi0->bf0, custom_call_target=\"__cudnn$convForward\", backend_config=\"{\\\"conv_result_scale\\\":1,\\\"activation_mode\\\":\\\"0\\\",\\\"side_input_scale\\\":0}\"\n",
      "2023-06-21 21:40:46.821811: W external/org_tensorflow/tensorflow/compiler/xla/service/gpu/gpu_conv_algorithm_picker.cc:825] None of the algorithms provided by cuDNN heuristics worked; trying fallback algorithms.  Conv: (f32[277437,50,99]{2,1,0}, u8[0]{0}) custom-call(f32[277437,40,99]{2,1,0}, f32[50,40,5]{2,1,0}), window={size=5 pad=2_2}, dim_labels=bf0_oi0->bf0, custom_call_target=\"__cudnn$convForward\", backend_config=\"{\\\"conv_result_scale\\\":1,\\\"activation_mode\\\":\\\"0\\\",\\\"side_input_scale\\\":0}\"\n",
      "2023-06-21 21:40:48.613044: W external/org_tensorflow/tensorflow/compiler/xla/service/gpu/gpu_conv_algorithm_picker.cc:825] None of the algorithms provided by cuDNN heuristics worked; trying fallback algorithms.  Conv: (f32[277437,50,99]{2,1,0}, u8[0]{0}) custom-call(f32[277437,50,99]{2,1,0}, f32[50,50,5]{2,1,0}), window={size=5 pad=2_2}, dim_labels=bf0_oi0->bf0, custom_call_target=\"__cudnn$convForward\", backend_config=\"{\\\"conv_result_scale\\\":1,\\\"activation_mode\\\":\\\"0\\\",\\\"side_input_scale\\\":0}\"\n"
     ]
    },
    {
     "name": "stdout",
     "output_type": "stream",
     "text": [
      "RMSE : 27.5626 MAE  : 6.9759 NLL : 3.8161\n",
      "-------------------------------------------Iteration No:----------------------------------------- -> 7.6\n"
     ]
    },
    {
     "name": "stderr",
     "output_type": "stream",
     "text": [
      "/home/dhruv.patel/final_active/pos/retrain_fun.py:201: FutureWarning: The frame.append method is deprecated and will be removed from pandas in a future version. Use pandas.concat instead.\n",
      "  train = train.append(new_df)\n"
     ]
    },
    {
     "name": "stdout",
     "output_type": "stream",
     "text": [
      "Train houses are\n",
      "[7719 9019 2335 2361 7951 7800 9278 1642 5746 7536 8156]\n",
      "(339186, 99)\n"
     ]
    },
    {
     "name": "stderr",
     "output_type": "stream",
     "text": [
      "2023-06-21 21:41:22.900430: W external/org_tensorflow/tensorflow/compiler/xla/service/gpu/gpu_conv_algorithm_picker.cc:825] None of the algorithms provided by cuDNN heuristics worked; trying fallback algorithms.  Conv: (f32[339186,30,99]{2,1,0}, u8[0]{0}) custom-call(f32[339186,30,106]{2,1,0}, f32[30,30,8]{2,1,0}), window={size=8}, dim_labels=bf0_oi0->bf0, custom_call_target=\"__cudnn$convForward\", backend_config=\"{\\\"conv_result_scale\\\":1,\\\"activation_mode\\\":\\\"0\\\",\\\"side_input_scale\\\":0}\"\n",
      "2023-06-21 21:41:24.608797: W external/org_tensorflow/tensorflow/compiler/xla/service/gpu/gpu_conv_algorithm_picker.cc:825] None of the algorithms provided by cuDNN heuristics worked; trying fallback algorithms.  Conv: (f32[339186,40,99]{2,1,0}, u8[0]{0}) custom-call(f32[339186,30,104]{2,1,0}, f32[40,30,6]{2,1,0}), window={size=6}, dim_labels=bf0_oi0->bf0, custom_call_target=\"__cudnn$convForward\", backend_config=\"{\\\"conv_result_scale\\\":1,\\\"activation_mode\\\":\\\"0\\\",\\\"side_input_scale\\\":0}\"\n",
      "2023-06-21 21:41:26.558899: W external/org_tensorflow/tensorflow/compiler/xla/service/gpu/gpu_conv_algorithm_picker.cc:825] None of the algorithms provided by cuDNN heuristics worked; trying fallback algorithms.  Conv: (f32[339186,50,99]{2,1,0}, u8[0]{0}) custom-call(f32[339186,40,99]{2,1,0}, f32[50,40,5]{2,1,0}), window={size=5 pad=2_2}, dim_labels=bf0_oi0->bf0, custom_call_target=\"__cudnn$convForward\", backend_config=\"{\\\"conv_result_scale\\\":1,\\\"activation_mode\\\":\\\"0\\\",\\\"side_input_scale\\\":0}\"\n",
      "2023-06-21 21:41:28.710325: W external/org_tensorflow/tensorflow/compiler/xla/service/gpu/gpu_conv_algorithm_picker.cc:825] None of the algorithms provided by cuDNN heuristics worked; trying fallback algorithms.  Conv: (f32[339186,50,99]{2,1,0}, u8[0]{0}) custom-call(f32[339186,50,99]{2,1,0}, f32[50,50,5]{2,1,0}), window={size=5 pad=2_2}, dim_labels=bf0_oi0->bf0, custom_call_target=\"__cudnn$convForward\", backend_config=\"{\\\"conv_result_scale\\\":1,\\\"activation_mode\\\":\\\"0\\\",\\\"side_input_scale\\\":0}\"\n"
     ]
    },
    {
     "name": "stdout",
     "output_type": "stream",
     "text": [
      "RMSE : 22.4290 MAE  : 5.0511 NLL : 3.5645\n",
      "-------------------------------------------Iteration No:----------------------------------------- -> 7.7\n"
     ]
    },
    {
     "name": "stderr",
     "output_type": "stream",
     "text": [
      "/home/dhruv.patel/final_active/pos/retrain_fun.py:201: FutureWarning: The frame.append method is deprecated and will be removed from pandas in a future version. Use pandas.concat instead.\n",
      "  train = train.append(new_df)\n"
     ]
    },
    {
     "name": "stdout",
     "output_type": "stream",
     "text": [
      "Train houses are\n",
      "[7719 9019 2335 2361 7951 7800 9278 1642 5746 7536 8156 9160]\n",
      "(404682, 99)\n"
     ]
    },
    {
     "name": "stderr",
     "output_type": "stream",
     "text": [
      "2023-06-21 21:42:09.729509: W external/org_tensorflow/tensorflow/compiler/xla/service/gpu/gpu_conv_algorithm_picker.cc:825] None of the algorithms provided by cuDNN heuristics worked; trying fallback algorithms.  Conv: (f32[404682,30,99]{2,1,0}, u8[0]{0}) custom-call(f32[404682,30,106]{2,1,0}, f32[30,30,8]{2,1,0}), window={size=8}, dim_labels=bf0_oi0->bf0, custom_call_target=\"__cudnn$convForward\", backend_config=\"{\\\"conv_result_scale\\\":1,\\\"activation_mode\\\":\\\"0\\\",\\\"side_input_scale\\\":0}\"\n",
      "2023-06-21 21:42:11.721120: W external/org_tensorflow/tensorflow/compiler/xla/service/gpu/gpu_conv_algorithm_picker.cc:825] None of the algorithms provided by cuDNN heuristics worked; trying fallback algorithms.  Conv: (f32[404682,40,99]{2,1,0}, u8[0]{0}) custom-call(f32[404682,30,104]{2,1,0}, f32[40,30,6]{2,1,0}), window={size=6}, dim_labels=bf0_oi0->bf0, custom_call_target=\"__cudnn$convForward\", backend_config=\"{\\\"conv_result_scale\\\":1,\\\"activation_mode\\\":\\\"0\\\",\\\"side_input_scale\\\":0}\"\n",
      "2023-06-21 21:42:14.006463: W external/org_tensorflow/tensorflow/compiler/xla/service/gpu/gpu_conv_algorithm_picker.cc:825] None of the algorithms provided by cuDNN heuristics worked; trying fallback algorithms.  Conv: (f32[404682,50,99]{2,1,0}, u8[0]{0}) custom-call(f32[404682,40,99]{2,1,0}, f32[50,40,5]{2,1,0}), window={size=5 pad=2_2}, dim_labels=bf0_oi0->bf0, custom_call_target=\"__cudnn$convForward\", backend_config=\"{\\\"conv_result_scale\\\":1,\\\"activation_mode\\\":\\\"0\\\",\\\"side_input_scale\\\":0}\"\n",
      "2023-06-21 21:42:16.528968: W external/org_tensorflow/tensorflow/compiler/xla/service/gpu/gpu_conv_algorithm_picker.cc:825] None of the algorithms provided by cuDNN heuristics worked; trying fallback algorithms.  Conv: (f32[404682,50,99]{2,1,0}, u8[0]{0}) custom-call(f32[404682,50,99]{2,1,0}, f32[50,50,5]{2,1,0}), window={size=5 pad=2_2}, dim_labels=bf0_oi0->bf0, custom_call_target=\"__cudnn$convForward\", backend_config=\"{\\\"conv_result_scale\\\":1,\\\"activation_mode\\\":\\\"0\\\",\\\"side_input_scale\\\":0}\"\n"
     ]
    },
    {
     "name": "stdout",
     "output_type": "stream",
     "text": [
      "RMSE : 22.9362 MAE  : 5.2050 NLL : 3.4502\n",
      "-------------------------------------------Iteration No:----------------------------------------- -> 7.8\n"
     ]
    },
    {
     "name": "stderr",
     "output_type": "stream",
     "text": [
      "/home/dhruv.patel/final_active/pos/retrain_fun.py:201: FutureWarning: The frame.append method is deprecated and will be removed from pandas in a future version. Use pandas.concat instead.\n",
      "  train = train.append(new_df)\n"
     ]
    },
    {
     "name": "stdout",
     "output_type": "stream",
     "text": [
      "Train houses are\n",
      "[7719 9019 2335 2361 7951 7800 9278 1642 5746 7536 8156 9160 8565]\n",
      "(477625, 99)\n"
     ]
    },
    {
     "name": "stderr",
     "output_type": "stream",
     "text": [
      "2023-06-21 21:43:04.277470: W external/org_tensorflow/tensorflow/compiler/xla/service/gpu/gpu_conv_algorithm_picker.cc:825] None of the algorithms provided by cuDNN heuristics worked; trying fallback algorithms.  Conv: (f32[477625,30,99]{2,1,0}, u8[0]{0}) custom-call(f32[477625,30,106]{2,1,0}, f32[30,30,8]{2,1,0}), window={size=8}, dim_labels=bf0_oi0->bf0, custom_call_target=\"__cudnn$convForward\", backend_config=\"{\\\"conv_result_scale\\\":1,\\\"activation_mode\\\":\\\"0\\\",\\\"side_input_scale\\\":0}\"\n",
      "2023-06-21 21:43:06.648769: W external/org_tensorflow/tensorflow/compiler/xla/service/gpu/gpu_conv_algorithm_picker.cc:825] None of the algorithms provided by cuDNN heuristics worked; trying fallback algorithms.  Conv: (f32[477625,40,99]{2,1,0}, u8[0]{0}) custom-call(f32[477625,30,104]{2,1,0}, f32[40,30,6]{2,1,0}), window={size=6}, dim_labels=bf0_oi0->bf0, custom_call_target=\"__cudnn$convForward\", backend_config=\"{\\\"conv_result_scale\\\":1,\\\"activation_mode\\\":\\\"0\\\",\\\"side_input_scale\\\":0}\"\n"
     ]
    },
    {
     "name": "stdout",
     "output_type": "stream",
     "text": [
      "RMSE : 35.2821 MAE  : 10.7503 NLL : 3.4171\n",
      "-------------------------------------------Iteration No:----------------------------------------- -> 7.9\n"
     ]
    },
    {
     "name": "stderr",
     "output_type": "stream",
     "text": [
      "/home/dhruv.patel/final_active/pos/retrain_fun.py:201: FutureWarning: The frame.append method is deprecated and will be removed from pandas in a future version. Use pandas.concat instead.\n",
      "  train = train.append(new_df)\n"
     ]
    },
    {
     "name": "stdout",
     "output_type": "stream",
     "text": [
      "Train houses are\n",
      "[7719 9019 2335 2361 7951 7800 9278 1642 5746 7536 8156 9160 8565 8386]\n",
      "(556927, 99)\n"
     ]
    },
    {
     "name": "stderr",
     "output_type": "stream",
     "text": [
      "2023-06-21 21:44:07.518719: W external/org_tensorflow/tensorflow/compiler/xla/service/gpu/gpu_conv_algorithm_picker.cc:825] None of the algorithms provided by cuDNN heuristics worked; trying fallback algorithms.  Conv: (f32[556927,30,99]{2,1,0}, u8[0]{0}) custom-call(f32[556927,30,106]{2,1,0}, f32[30,30,8]{2,1,0}), window={size=8}, dim_labels=bf0_oi0->bf0, custom_call_target=\"__cudnn$convForward\", backend_config=\"{\\\"conv_result_scale\\\":1,\\\"activation_mode\\\":\\\"0\\\",\\\"side_input_scale\\\":0}\"\n",
      "2023-06-21 21:44:10.270403: W external/org_tensorflow/tensorflow/compiler/xla/service/gpu/gpu_conv_algorithm_picker.cc:825] None of the algorithms provided by cuDNN heuristics worked; trying fallback algorithms.  Conv: (f32[556927,40,99]{2,1,0}, u8[0]{0}) custom-call(f32[556927,30,104]{2,1,0}, f32[40,30,6]{2,1,0}), window={size=6}, dim_labels=bf0_oi0->bf0, custom_call_target=\"__cudnn$convForward\", backend_config=\"{\\\"conv_result_scale\\\":1,\\\"activation_mode\\\":\\\"0\\\",\\\"side_input_scale\\\":0}\"\n"
     ]
    },
    {
     "name": "stdout",
     "output_type": "stream",
     "text": [
      "RMSE : 21.5871 MAE  : 4.9338 NLL : 3.3167\n"
     ]
    },
    {
     "data": {
      "image/png": "[encoded data removed]",
      "text/plain": [
       "<Figure size 640x480 with 1 Axes>"
      ]
     },
     "metadata": {},
     "output_type": "display_data"
    }
   ],
   "source": [
    "total_rmse=[]\n",
    "houseids=[]\n",
    "\n",
    "all_rmses = dict()\n",
    "all_maes = dict() \n",
    "all_preds = dict() \n",
    "\n",
    "iteration_number = f'{start}_{end}_iterations'\n",
    "\n",
    "print(f\"STARTING FOR {appliance}, FOR ITERATIONS - {start} to {end}\")\n",
    "\n",
    "for i in range(start,end): #total 10 iterations\n",
    "\n",
    "    print(f\"############################################Random iteration number#################################### : {i+1}\")\n",
    "\n",
    "    train_houses = all_appliance_train_lists[appliance][0] \n",
    "    test_houses = all_appliance_test_lists[appliance][0] \n",
    "    pool_houses = all_appliance_pool_lists[appliance][0] \n",
    "\n",
    "    print(f\"I am pool houses picck {pool_houses}\")\n",
    "    \n",
    "    \n",
    "    train = data_aggregated[data_aggregated[\"dataid\"].isin(train_houses)] \n",
    "    test = data_aggregated[data_aggregated[\"dataid\"].isin(test_houses)]\n",
    "\n",
    "    all_rmses[i] = []\n",
    "    all_maes[i] = []\n",
    "    all_preds[i] = []\n",
    "    \n",
    "    houses=[]\n",
    "\n",
    "    start= [\"2018-03-01 00:00:00-06\",\"2018-03-11 00:00:00-06\",\"2018-03-16 00:00:00-06\",\"2018-03-21 00:00:00-06\",\"2018-03-26 00:00:00-06\",\"2018-04-01 00:00:00-06\", \"2018-04-06 00:00:00-06\", \"2018-04-11 00:00:00-06\", \"2018-04-16 00:00:00-06\", \"2018-04-21 00:00:00-06\"]\n",
    "    end=   [\"2018-03-10 23:59:00-06\",\"2018-03-15 23:59:00-06\",\"2018-03-20 23:59:00-06\",\"2018-03-25 23:59:00-06\",\"2018-03-31 23:59:00-06\",\"2018-04-05 23:59:00-06\", \"2018-04-10 23:59:00-06\", \"2018-04-15 23:59:00-06\", \"2018-04-20 23:59:00-06\", \"2018-04-25 23:59:00-06\"]\n",
    "    \n",
    "    for j in range(len(start)):\n",
    "        \n",
    "        \n",
    "        print(f\"-------------------------------------------Iteration No:----------------------------------------- -> {i}.{j}\")\n",
    "\n",
    "        if(j==0):\n",
    "            rmsee, maes, train, test,current_pred = retrain_random(0, start[j], end[j], pool_houses, train, test,appliance, data_aggregated)\n",
    "            all_rmses[i].append(rmsee.item())\n",
    "            all_maes[i].append(maes.item())\n",
    "            all_preds[i].append(current_pred)\n",
    "\n",
    "            random_house_id = random_picks[appliance][i][j]\n",
    "            print(f\"I am random house id = {random_house_id}\")\n",
    "            print(f\"I am pool houses {pool_houses}\")\n",
    "            print(f\"{np.where(np.array(pool_houses)==random_house_id)}\")\n",
    "            print(f\"{np.where(np.array(pool_houses)==random_house_id)[0]}\")\n",
    "            print(f\"{np.where(np.array(pool_houses)==random_house_id)[0][0]}\")\n",
    "            random_house_index = np.where(np.array(pool_houses)==random_house_id)[0][0]  \n",
    "\n",
    "            houses.append(random_house_id)\n",
    "            pool_houses= np.delete(pool_houses, random_house_index)\n",
    "            # break #REMOVE AT THE END\n",
    "\n",
    "        elif(j==10):\n",
    "            rmsee, maes, train, test,current_pred = retrain_random(random_house_id, start[j], end[j], pool_houses, train, test,appliance, data_aggregated)\n",
    "            all_rmses[i].append(rmsee.item())\n",
    "            all_maes[i].append(maes.item())\n",
    "            all_preds[i].append(current_pred)\n",
    "\n",
    "        else:\n",
    "            rmsee, maes, train, test,current_pred = retrain_random(random_house_id, start[j], end[j], pool_houses, train, test,appliance, data_aggregated)\n",
    "            all_rmses[i].append(rmsee.item())\n",
    "            all_maes[i].append(maes.item())\n",
    "            all_preds[i].append(current_pred)\n",
    "\n",
    "            random_house_id = random_picks[appliance][i][j]\n",
    "            \n",
    "            random_house_index = np.where(np.array(pool_houses)==random_house_id)[0][0]  \n",
    "            \n",
    "            houses.append(random_house_id)\n",
    "            pool_houses= np.delete(pool_houses, random_house_index)\n",
    "        \n",
    "        \n",
    "    # total_rmse.append(rmse_iter)\n",
    "    houseids.append(houses)\n",
    "    \n",
    "    # if i not in all_rmses:\n",
    "    #     all_rmses[i] = total_rmse\n",
    "\n",
    "\n"
   ]
  },
  {
   "cell_type": "code",
   "execution_count": 9,
   "metadata": {},
   "outputs": [],
   "source": [
    "name_of_file_rmses = \"lr33lessbs4096random\"+\"_\"+str(iteration_number) + \"RMSES\"+\".csv\"\n",
    "name_of_file_maes = \"lr33lessbs4096random\"+\"_\"+str(iteration_number) + \"MAES\"+\".csv\"\n",
    "# name_of_file_preds = str(random)+\"_\"+str(iteration_number)+\"PREDS\"+\".csv\"\n",
    "\n",
    "if not os.path.exists(f'{appliance}'):\n",
    "    os.mkdir(f'{appliance}')\n",
    "\n",
    "# Save the DataFrame to a CSV file\n",
    "pd.DataFrame(all_rmses).to_csv(os.path.join(f'{appliance}', f'{name_of_file_rmses}'), index=False)\n",
    "pd.DataFrame(all_maes).to_csv(os.path.join(f'{appliance}', f'{name_of_file_maes}'), index=False)\n",
    "# pd.DataFrame(all_preds).to_csv(os.path.join(f'{appliance}', f'{name_of_file_preds}'), index=False)"
   ]
  },
  {
   "cell_type": "code",
   "execution_count": null,
   "metadata": {},
   "outputs": [],
   "source": []
  },
  {
   "cell_type": "code",
   "execution_count": null,
   "metadata": {},
   "outputs": [],
   "source": []
  }
 ],
 "metadata": {
  "kernelspec": {
   "display_name": "active_NILM",
   "language": "python",
   "name": "active_nilm"
  },
  "language_info": {
   "codemirror_mode": {
    "name": "ipython",
    "version": 3
   },
   "file_extension": ".py",
   "mimetype": "text/x-python",
   "name": "python",
   "nbconvert_exporter": "python",
   "pygments_lexer": "ipython3",
   "version": "3.9.16"
  },
  "orig_nbformat": 4
 },
 "nbformat": 4,
 "nbformat_minor": 2
}
