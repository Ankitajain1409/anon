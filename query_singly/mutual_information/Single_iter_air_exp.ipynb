{
 "cells": [
  {
   "cell_type": "code",
   "execution_count": null,
   "metadata": {},
   "outputs": [],
   "source": [
    "import os\n",
    "os.environ['CUDA_VISIBLE_DEVICES'] = str(1)"
   ]
  },
  {
   "cell_type": "code",
   "execution_count": null,
   "metadata": {},
   "outputs": [],
   "source": [
    "import pandas as pd\n",
    "import numpy as np\n",
    "import matplotlib.pyplot as plt\n",
    "%matplotlib inline\n",
    "from dataloader import *\n",
    "from model import *\n",
    "from utilities import *\n",
    "from retrain_fun import *\n",
    "import random\n",
    "random.seed(0)\n",
    "np.random.seed(0)\n",
    "jax.random.PRNGKey(0)\n",
    "os.environ[\"XLA_FLAGS\"] = \"--xla_gpu_deterministic_reductions --xla_gpu_autotune_level=2\"\n",
    "os.environ['TF_CUDNN_DETERMINISTIC']='1'\n"
   ]
  },
  {
   "cell_type": "code",
   "execution_count": null,
   "metadata": {},
   "outputs": [],
   "source": [
    "data_aggregated, houses = data_preprocess(only_positive=True)"
   ]
  },
  {
   "attachments": {},
   "cell_type": "markdown",
   "metadata": {},
   "source": [
    "Train: [2361, 7719, 9019, 2335, 7951] \n",
    "Test:  [4373, 7901, 3456, 3538, 2818]"
   ]
  },
  {
   "cell_type": "code",
   "execution_count": null,
   "metadata": {},
   "outputs": [],
   "source": [
    "train_list= [[2361, 7719, 9019, 2335, 7951]]\n",
    "test_list= [[4373, 7901, 3456, 3538, 2818]]\n",
    "pool_list=[]\n",
    "for i in range(len(train_list)):\n",
    "    pool = [j for j in houses if j not in train_list[i]+test_list[i]]\n",
    "    pool_list.append(pool)"
   ]
  },
  {
   "cell_type": "code",
   "execution_count": null,
   "metadata": {},
   "outputs": [],
   "source": [
    "appliance = 'refrigerator'"
   ]
  },
  {
   "attachments": {},
   "cell_type": "markdown",
   "metadata": {},
   "source": []
  },
  {
   "cell_type": "code",
   "execution_count": null,
   "metadata": {},
   "outputs": [],
   "source": [
    "pool_list"
   ]
  },
  {
   "cell_type": "code",
   "execution_count": null,
   "metadata": {},
   "outputs": [],
   "source": [
    "total_rmse=[]\n",
    "total_mae = []\n",
    "houseids=[]\n",
    "for i in range(len(train_list)):\n",
    "    # print(len(train_list))\n",
    "    print(\"Train Set No:\", i+1)\n",
    "    train_houses = train_list[i]\n",
    "    test_houses = test_list[i]\n",
    "    pool_houses = pool_list[i]\n",
    "    train = data_aggregated[data_aggregated[\"dataid\"].isin(train_houses)] \n",
    "    test = data_aggregated[data_aggregated[\"dataid\"].isin(test_houses)]\n",
    "\n",
    "    epistemic_list = []\n",
    "    rmse_iter=[]\n",
    "    mae_iter = []\n",
    "    houses=[]\n",
    "    start= [\"2018-03-01 00:00:00-06\",\"2018-03-11 00:00:00-06\", \"2018-03-16 00:00:00-06\", \"2018-03-21 00:00:00-06\", \"2018-03-26 00:00:00-06\", \"2018-04-01 00:00:00-06\",\"2018-04-06 00:00:00-06\",\"2018-04-11 00:00:00-06\",\"2018-04-16 00:00:00-06\",\"2018-04-21 00:00:00-06\"]\n",
    "    end= [\"2018-03-10 23:59:00-06\",\"2018-03-15 23:59:00-06\",\"2018-03-20 23:59:00-06\",\"2018-03-25 23:59:00-06\",\"2018-03-31 23:59:00-06\",\"2018-04-05 23:59:00-06\", \"2018-04-10 23:59:00-06\", \"2018-04-15 23:59:00-06\", \"2018-04-20 23:59:00-06\", \"2018-04-25 23:59:00-06\"]\n",
    "    dates = [\"2018-03-01 00:00:00-06\",\"2018-03-06 00:00:00-06\", \"2018-03-11 00:00:00-06\", \"2018-03-16 00:00:00-06\", \"2018-03-21 00:00:00-06\", \"2018-03-27 00:00:00-06\",\"2018-04-01 00:00:00-06\",\"2018-04-06 00:00:00-06\",\"2018-04-11 00:00:00-06\",\"2018-04-16 00:00:00-06\"]\n",
    "    for j in range(len(start)):\n",
    "        # print(len(start))\n",
    "        print(\"Iteration No: \",j)\n",
    "        if(j==0):\n",
    "            house, houseid,rmsee, train, test, maee, epistemic= retrain(0, start[j], end[j], pool_houses, train, test, dates[j], appliance, data_aggregated)\n",
    "            rmse_iter.append(rmsee.item())\n",
    "            mae_iter.append(maee.item())\n",
    "            houses.append(house)\n",
    "            epistemic_list.append(epistemic)\n",
    "            pool_houses= np.delete(pool_houses, houseid)\n",
    "        elif(j==10):\n",
    "            house, houseid,rmsee, train, test, maee, epistemic= retrain(house, start[j], end[j], pool_houses, train, test, dates[j], appliance, data_aggregated)\n",
    "            rmse_iter.append(rmsee.item())\n",
    "            mae_iter.append(maee.item())\n",
    "            epistemic_list.append(epistemic)\n",
    "        else:\n",
    "            house, houseid,rmsee, train, test, maee, epistemic= retrain(house, start[j], end[j], pool_houses, train, test, dates[j], appliance, data_aggregated)\n",
    "            rmse_iter.append(rmsee.item())\n",
    "            mae_iter.append(maee.item())\n",
    "            houses.append(house)\n",
    "            pool_houses= np.delete(pool_houses, houseid)\n",
    "            epistemic_list.append(epistemic)\n",
    "    total_rmse.append(rmse_iter)\n",
    "    total_mae.append(mae_iter)\n",
    "    houseids.append(houses)"
   ]
  },
  {
   "cell_type": "code",
   "execution_count": null,
   "metadata": {},
   "outputs": [],
   "source": [
    "houseids"
   ]
  },
  {
   "cell_type": "code",
   "execution_count": null,
   "metadata": {},
   "outputs": [],
   "source": [
    "total_rmse"
   ]
  },
  {
   "cell_type": "code",
   "execution_count": null,
   "metadata": {},
   "outputs": [],
   "source": [
    "# d = pd.DataFrame(total_rmse)\n",
    "# d2 = pd.DataFrame(total_mae)\n",
    "# house_df= pd.DataFrame(houseids)\n",
    "# if not os.path.exists(f'{appliance}'):\n",
    "#     os.mkdir(f'{appliance}')\n",
    "\n",
    "# # Save the DataFrame to a CSV file\n",
    "# d.to_csv(os.path.join(f'{appliance}', \"mi4_rmse.csv\"), index=False)\n",
    "# d2.to_csv(os.path.join(f'{appliance}', \"mi4_mae.csv\"), index=False)\n",
    "# house_df.to_csv(os.path.join(f'{appliance}', \"mi4houseids.csv\"), index=False)"
   ]
  },
  {
   "cell_type": "code",
   "execution_count": null,
   "metadata": {},
   "outputs": [],
   "source": [
    "plt.plot(total_rmse[0])\n",
    "\n",
    "plt.xlabel(\"#Iterations\")\n",
    "plt.ylabel(\"RMSE\")\n",
    "plt.title(\"air\")\n",
    "\n"
   ]
  },
  {
   "cell_type": "code",
   "execution_count": null,
   "metadata": {},
   "outputs": [],
   "source": [
    "d = pd.DataFrame(epistemic_list)\n",
    "d.to_csv('refrigerator_epistemic.csv')"
   ]
  },
  {
   "cell_type": "code",
   "execution_count": null,
   "metadata": {},
   "outputs": [],
   "source": [
    "epistemic_list"
   ]
  },
  {
   "cell_type": "code",
   "execution_count": null,
   "metadata": {},
   "outputs": [],
   "source": []
  }
 ],
 "metadata": {
  "kernelspec": {
   "display_name": "active_NILM",
   "language": "python",
   "name": "active_nilm"
  },
  "language_info": {
   "codemirror_mode": {
    "name": "ipython",
    "version": 3
   },
   "file_extension": ".py",
   "mimetype": "text/x-python",
   "name": "python",
   "nbconvert_exporter": "python",
   "pygments_lexer": "ipython3",
   "version": "3.9.16"
  },
  "orig_nbformat": 4
 },
 "nbformat": 4,
 "nbformat_minor": 2
}
