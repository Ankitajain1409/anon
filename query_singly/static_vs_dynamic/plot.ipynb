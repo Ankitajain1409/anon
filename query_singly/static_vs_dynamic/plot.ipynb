{
 "cells": [
  {
   "cell_type": "code",
   "execution_count": 1,
   "metadata": {},
   "outputs": [],
   "source": [
    "import matplotlib.pyplot as plt\n",
    "import pandas as pd\n",
    "import numpy as np\n",
    "from tueplots import bundles\n",
    "import seaborn as sns"
   ]
  },
  {
   "cell_type": "code",
   "execution_count": 2,
   "metadata": {},
   "outputs": [],
   "source": [
    "appliance = 'dishwasher'"
   ]
  },
  {
   "cell_type": "code",
   "execution_count": 3,
   "metadata": {},
   "outputs": [],
   "source": [
    "dynamic = np.array(pd.read_csv(f'/home/dhruv.patel/final_active/pos/{appliance}/new_rmse.csv'))\n",
    "dynamic2 = np.array(pd.read_csv(f'/home/dhruv.patel/final_active/pos/{appliance}/2new_rmse.csv'))\n",
    "a = np.array(pd.read_csv(f'/home/dhruv.patel/final_active/static/{appliance}/1errors_rmse.csv'))\n",
    "b = np.array(pd.read_csv(f'/home/dhruv.patel/final_active/static/{appliance}/2errors_rmse.csv'))\n",
    "c = np.array(pd.read_csv(f'/home/dhruv.patel/final_active/static/{appliance}/3errors_rmse.csv'))\n",
    "d = np.array(pd.read_csv(f'/home/dhruv.patel/final_active/static/{appliance}/4errors_rmse.csv'))\n",
    "\n",
    "e= np.array(pd.read_csv(f'/home/dhruv.patel/final_active/static/{appliance}/01errors_rmse.csv'))\n",
    "f = np.array(pd.read_csv(f'/home/dhruv.patel/final_active/static/{appliance}/02errors_rmse.csv'))\n",
    "g = np.array(pd.read_csv(f'/home/dhruv.patel/final_active/static/{appliance}/03errors_rmse.csv'))\n",
    "h = np.array(pd.read_csv(f'/home/dhruv.patel/final_active/static/{appliance}/04errors_rmse.csv'))"
   ]
  },
  {
   "cell_type": "code",
   "execution_count": 4,
   "metadata": {},
   "outputs": [
    {
     "data": {
      "image/png": "[encoded data removed]",
      "text/plain": [
       "<Figure size 300x150.861 with 1 Axes>"
      ]
     },
     "metadata": {},
     "output_type": "display_data"
    }
   ],
   "source": [
    "import matplotlib.pyplot as plt\n",
    "\n",
    "plt.rcParams.update(bundles.icml2022())\n",
    "plt.rcParams.update({'figure.figsize': (3, 1.5086104634371584)})\n",
    "# # Add a grid in the background\n",
    "# plt.grid(color='#cccccc', linestyle='-', linewidth=0.5, alpha=0.7)\n",
    "\n",
    "# # Set a background color\n",
    "# ax = plt.gca()\n",
    "# ax.set_facecolor('#f5f5f5')\n",
    "\n",
    "# Adjust colors\n",
    "# plt.rcParams['axes.edgecolor'] = '#333333'\n",
    "# plt.rcParams['axes.labelcolor'] = '#333333'\n",
    "# plt.rcParams['xtick.color'] = '#333333'\n",
    "# plt.rcParams['ytick.color'] = '#333333'\n",
    "plt.plot(dynamic[0], 'o-', label='dynamic, triangle', markersize = 3, color = 'navy')\n",
    "plt.plot(dynamic2[0], 'o-', label='dynamic, uniform', markersize = 3, color = 'brown')\n",
    "# plt.plot(e[0], label=\"1-15 Jan\", linewidth = 0.5)\n",
    "plt.plot(f[0], 'o-', label=\"16-30 Jan, uniform\", markersize= 3, color = 'red')\n",
    "# plt.plot(g[0], label=\"1-15 Feb\", linewidth = 0.5)\n",
    "# plt.plot(h[0], label=\"16-28 Feb\",linewidth = 0.5)\n",
    "# plt.plot(a[0], label=\"1-15 Mar\",linewidth = 0.5)  \n",
    "# plt.plot(b[0], label=\"16-30 Mar\",linewidth = 0.5)\n",
    "# plt.plot(c[0], label=\"1-15 Apr\",linewidth = 0.5)\n",
    "plt.plot(d[0], 'o-', label=\"16-30 Apr, uniform\",markersize = 3, color = 'green')\n",
    "plt.xlabel('Iteration')\n",
    "plt.xticks([0,1,2,3,4,5,6,7,8,9])\n",
    "plt.ylabel('RMSE')\n",
    "\n",
    "plt.legend(frameon=False, ncol=1, title='(time window, aggregation)')  # Set ncol to 3 for 3 columns\n",
    "sns.despine()\n",
    "# plt.savefig(f'{appliance}_rmse.pdf')\n",
    "plt.show()\n",
    "\n"
   ]
  },
  {
   "cell_type": "code",
   "execution_count": null,
   "metadata": {},
   "outputs": [],
   "source": []
  }
 ],
 "metadata": {
  "kernelspec": {
   "display_name": "active_NILM",
   "language": "python",
   "name": "active_nilm"
  },
  "language_info": {
   "codemirror_mode": {
    "name": "ipython",
    "version": 3
   },
   "file_extension": ".py",
   "mimetype": "text/x-python",
   "name": "python",
   "nbconvert_exporter": "python",
   "pygments_lexer": "ipython3",
   "version": "3.9.16"
  },
  "orig_nbformat": 4
 },
 "nbformat": 4,
 "nbformat_minor": 2
}
