{
 "cells": [
  {
   "cell_type": "code",
   "execution_count": 1,
   "metadata": {},
   "outputs": [],
   "source": [
    "import os\n",
    "os.environ['CUDA_VISIBLE_DEVICES'] = str(0)"
   ]
  },
  {
   "cell_type": "code",
   "execution_count": 2,
   "metadata": {},
   "outputs": [],
   "source": [
    "appliance= 'air'\n",
    "start = 0\n",
    "end = 2"
   ]
  },
  {
   "cell_type": "code",
   "execution_count": 3,
   "metadata": {},
   "outputs": [
    {
     "name": "stderr",
     "output_type": "stream",
     "text": [
      "2023-06-12 23:08:58.431192: W tensorflow/compiler/tf2tensorrt/utils/py_utils.cc:38] TF-TRT Warning: Could not find TensorRT\n"
     ]
    }
   ],
   "source": [
    "import tensorflow_probability.substrates.jax as tfp\n",
    "import jax\n",
    "import optax\n",
    "from functools import partial\n",
    "import seaborn as sns\n",
    "import tensorflow as tf\n",
    "dist = tfp.distributions\n",
    "import pandas as pd\n",
    "import numpy as np\n",
    "import matplotlib.pyplot as plt\n",
    "from sklearn.preprocessing import StandardScaler\n",
    "import scipy.stats as st\n",
    "import random\n",
    "from dataloader import *\n",
    "from utilities import *\n",
    "from model import *\n",
    "from retrain_fun import *\n",
    "random.seed(0)\n",
    "np.random.seed(0)\n",
    "jax.random.PRNGKey(0)\n",
    "os.environ[\"XLA_FLAGS\"] = \"--xla_gpu_deterministic_reductions --xla_gpu_autotune_level=2\"\n",
    "os.environ['TF_CUDNN_DETERMINISTIC']='1'\n"
   ]
  },
  {
   "cell_type": "code",
   "execution_count": 4,
   "metadata": {},
   "outputs": [],
   "source": [
    "data_aggregated, houses = data_preprocess(only_positive=True)"
   ]
  },
  {
   "cell_type": "code",
   "execution_count": 5,
   "metadata": {},
   "outputs": [],
   "source": [
    "train_list_furnace = [[2361, 7719, 9019, 2335, 7951]]\n",
    "test_list_furnace = [[4373, 7901, 3456, 3538, 2818]]\n",
    "pool_list_furnace=[]\n",
    "for i in range(len(train_list_furnace)):\n",
    "    pool = [j for j in houses if j not in train_list_furnace[i]+test_list_furnace[i]] #[1,2,3,3]\n",
    "    pool_list_furnace.append(pool) #pool list = [[1,2,3,3]]\n",
    "\n",
    "train_list_clotheswasher = [[2361, 7719, 9019, 2335, 7951]]\n",
    "test_list_clotheswasher = [[4373, 7901, 3456, 3538, 2818]]\n",
    "pool_list_clotheswasher=[]\n",
    "for i in range(len(train_list_clotheswasher)):\n",
    "    pool = [j for j in houses if j not in train_list_clotheswasher[i]+test_list_clotheswasher[i]]\n",
    "    pool_list_clotheswasher.append(pool)\n",
    "\n",
    "train_list_dishwasher = [[2361, 7719, 9019, 2335, 7951]]\n",
    "test_list_dishwasher = [[4373, 7901, 3456, 3538, 2818]]\n",
    "pool_list_dishwasher=[]\n",
    "for i in range(len(train_list_dishwasher)):\n",
    "    pool = [j for j in houses if j not in train_list_dishwasher[i]+test_list_dishwasher[i]]\n",
    "    pool_list_dishwasher.append(pool)\n",
    "\n",
    "train_list_refrigerator =  [[2361, 7719, 9019, 2335, 7951]]\n",
    "test_list_refrigerator = [[4373, 7901, 3456, 3538, 2818]]\n",
    "pool_list_refrigerator=[]\n",
    "for i in range(len(train_list_refrigerator)):\n",
    "    pool = [j for j in houses if j not in train_list_refrigerator[i]+test_list_refrigerator[i]]\n",
    "    pool_list_refrigerator.append(pool)\n",
    "\n",
    "\n",
    "train_list_air = [[2361, 7719, 9019, 2335, 7951]]\n",
    "test_list_air = [[4373, 7901, 3456, 3538, 2818]]\n",
    "pool_list_air=[]\n",
    "for i in range(len(train_list_air)):\n",
    "    pool = [j for j in houses if j not in train_list_air[i]+test_list_air[i]]\n",
    "    pool_list_air.append(pool)\n"
   ]
  },
  {
   "cell_type": "code",
   "execution_count": 6,
   "metadata": {},
   "outputs": [],
   "source": [
    "all_appliance_train_lists = {\n",
    "    'air':train_list_air, 'furnace':train_list_furnace,'dishwasher':train_list_dishwasher, 'refrigerator':train_list_refrigerator, 'clotheswasher':train_list_clotheswasher\n",
    "}\n",
    "all_appliance_test_lists = {\n",
    "    'air':test_list_air, 'furnace':test_list_furnace,'dishwasher':test_list_dishwasher, 'refrigerator':test_list_refrigerator, 'clotheswasher':test_list_clotheswasher\n",
    "}\n",
    "all_appliance_pool_lists = {\n",
    "    'air':pool_list_air, 'furnace':pool_list_furnace,'dishwasher':pool_list_dishwasher, 'refrigerator':pool_list_refrigerator, 'clotheswasher':pool_list_clotheswasher\n",
    "}"
   ]
  },
  {
   "cell_type": "code",
   "execution_count": 7,
   "metadata": {},
   "outputs": [],
   "source": [
    "random_picks = {'furnace':[[8156, 661, 7800, 8386, 8565, 5746, 9278, 7536, 1642, 9160],\n",
    " [7800, 9160, 8565, 661, 1642, 9278, 8156, 7536, 5746, 8386],\n",
    " [8565, 9160, 8386, 661, 5746, 7536, 7800, 1642, 9278, 8156],\n",
    " [7800, 7536, 661, 8386, 9278, 1642, 8565, 5746, 9160, 8156],\n",
    " [7536, 7800, 8156, 9278, 661, 5746, 8386, 8565, 9160, 1642],\n",
    " [661, 8156, 9278, 7800, 8386, 7536, 9160, 1642, 5746, 8565],\n",
    " [661, 1642, 8386, 9160, 9278, 5746, 7536, 8156, 8565, 7800],\n",
    " [7800, 9278, 1642, 5746, 7536, 8156, 9160, 8565, 8386, 661],\n",
    " [5746, 661, 9160, 8156, 9278, 8565, 7536, 8386, 1642, 7800],\n",
    " [7800, 8565, 8156, 8386, 7536, 9278, 661, 1642, 5746, 9160]],\n",
    " 'clotheswasher_og':[[8156, 661, 7800, 8386, 8565, 5746, 9278, 7536, 1642, 9160],\n",
    " [7800, 9160, 8565, 661, 1642, 9278, 8156, 7536, 5746, 8386],\n",
    " [8565, 9160, 8386, 661, 5746, 7536, 7800, 1642, 9278, 8156],\n",
    " [7800, 7536, 661, 8386, 9278, 1642, 8565, 5746, 9160, 8156],\n",
    " [7536, 7800, 8156, 9278, 661, 5746, 8386, 8565, 9160, 1642],\n",
    " [661, 8156, 9278, 7800, 8386, 7536, 9160, 1642, 5746, 8565],\n",
    " [661, 1642, 8386, 9160, 9278, 5746, 7536, 8156, 8565, 7800],\n",
    " [7800, 9278, 1642, 5746, 7536, 8156, 9160, 8565, 8386, 661],\n",
    " [5746, 661, 9160, 8156, 9278, 8565, 7536, 8386, 1642, 7800],\n",
    " [7800, 8565, 8156, 8386, 7536, 9278, 661, 1642, 5746, 9160]],\n",
    " 'clotheswasher':[[8156, 661, 7800, 8386, 8565, 5746, 9278, 7536, 1642, 9160],\n",
    " [7800, 9160, 8565, 661, 1642, 9278, 8156, 7536, 5746, 8386],\n",
    " [8565, 9160, 8386, 661, 5746, 7536, 7800, 1642, 9278, 8156],\n",
    " [7800, 7536, 661, 8386, 9278, 1642, 8565, 5746, 9160, 8156],\n",
    " [7536, 7800, 8156, 9278, 661, 5746, 8386, 8565, 9160, 1642],\n",
    " [661, 8156, 9278, 7800, 8386, 7536, 9160, 1642, 5746, 8565],\n",
    " [661, 1642, 8386, 9160, 9278, 5746, 7536, 8156, 8565, 7800],\n",
    " [7800, 9278, 1642, 5746, 7536, 8156, 9160, 8565, 8386, 661],\n",
    " [5746, 661, 9160, 8156, 9278, 8565, 7536, 8386, 1642, 7800],\n",
    " [7800, 8565, 8156, 8386, 7536, 9278, 661, 1642, 5746, 9160]]\n",
    " , \n",
    " 'refrigerator':[[8156, 661, 7800, 8386, 8565, 5746, 9278, 7536, 1642, 9160],\n",
    " [7800, 9160, 8565, 661, 1642, 9278, 8156, 7536, 5746, 8386],\n",
    " [8565, 9160, 8386, 661, 5746, 7536, 7800, 1642, 9278, 8156],\n",
    " [7800, 7536, 661, 8386, 9278, 1642, 8565, 5746, 9160, 8156],\n",
    " [7536, 7800, 8156, 9278, 661, 5746, 8386, 8565, 9160, 1642],\n",
    " [661, 8156, 9278, 7800, 8386, 7536, 9160, 1642, 5746, 8565],\n",
    " [661, 1642, 8386, 9160, 9278, 5746, 7536, 8156, 8565, 7800],\n",
    " [7800, 9278, 1642, 5746, 7536, 8156, 9160, 8565, 8386, 661],\n",
    " [5746, 661, 9160, 8156, 9278, 8565, 7536, 8386, 1642, 7800],\n",
    " [7800, 8565, 8156, 8386, 7536, 9278, 661, 1642, 5746, 9160]], \n",
    " 'dishwasher':[[8156, 661, 7800, 8386, 8565, 5746, 9278, 7536, 1642, 9160],\n",
    " [7800, 9160, 8565, 661, 1642, 9278, 8156, 7536, 5746, 8386],\n",
    " [8565, 9160, 8386, 661, 5746, 7536, 7800, 1642, 9278, 8156],\n",
    " [7800, 7536, 661, 8386, 9278, 1642, 8565, 5746, 9160, 8156],\n",
    " [7536, 7800, 8156, 9278, 661, 5746, 8386, 8565, 9160, 1642],\n",
    " [661, 8156, 9278, 7800, 8386, 7536, 9160, 1642, 5746, 8565],\n",
    " [661, 1642, 8386, 9160, 9278, 5746, 7536, 8156, 8565, 7800],\n",
    " [7800, 9278, 1642, 5746, 7536, 8156, 9160, 8565, 8386, 661],\n",
    " [5746, 661, 9160, 8156, 9278, 8565, 7536, 8386, 1642, 7800],\n",
    " [7800, 8565, 8156, 8386, 7536, 9278, 661, 1642, 5746, 9160]], \n",
    " 'air': [[8156, 661, 7800, 8386, 8565, 5746, 9278, 7536, 1642, 9160],\n",
    " [7800, 9160, 8565, 661, 1642, 9278, 8156, 7536, 5746, 8386],\n",
    " [8565, 9160, 8386, 661, 5746, 7536, 7800, 1642, 9278, 8156],\n",
    " [7800, 7536, 661, 8386, 9278, 1642, 8565, 5746, 9160, 8156],\n",
    " [7536, 7800, 8156, 9278, 661, 5746, 8386, 8565, 9160, 1642],\n",
    " [661, 8156, 9278, 7800, 8386, 7536, 9160, 1642, 5746, 8565],\n",
    " [661, 1642, 8386, 9160, 9278, 5746, 7536, 8156, 8565, 7800],\n",
    " [7800, 9278, 1642, 5746, 7536, 8156, 9160, 8565, 8386, 661],\n",
    " [5746, 661, 9160, 8156, 9278, 8565, 7536, 8386, 1642, 7800],\n",
    " [7800, 8565, 8156, 8386, 7536, 9278, 661, 1642, 5746, 9160]]\n",
    "}"
   ]
  },
  {
   "cell_type": "code",
   "execution_count": 8,
   "metadata": {},
   "outputs": [
    {
     "name": "stdout",
     "output_type": "stream",
     "text": [
      "STARTING FOR air, FOR ITERATIONS - 0 to 2\n",
      "############################################Random iteration number#################################### : 1\n",
      "I am pool houses picck [5746, 8565, 9278, 8156, 8386, 9160, 661, 1642, 7536, 7800]\n",
      "-------------------------------------------Iteration No:----------------------------------------- -> 0.0\n",
      "RMSE : 840.0187 MAE  : 332.3535 NLL : 1089753.0000\n",
      "I am random house id = 8156\n",
      "I am pool houses [5746, 8565, 9278, 8156, 8386, 9160, 661, 1642, 7536, 7800]\n",
      "(array([3]),)\n",
      "[3]\n",
      "3\n",
      "-------------------------------------------Iteration No:----------------------------------------- -> 0.1\n"
     ]
    },
    {
     "name": "stderr",
     "output_type": "stream",
     "text": [
      "/home/dhruv.patel/final_active/pos/retrain_fun.py:201: FutureWarning: The frame.append method is deprecated and will be removed from pandas in a future version. Use pandas.concat instead.\n",
      "  train = train.append(new_df)\n"
     ]
    },
    {
     "name": "stdout",
     "output_type": "stream",
     "text": [
      "Train houses are\n",
      "[7719 9019 2335 2361 7951 8156]\n",
      "(82890, 99)\n",
      "RMSE : 842.0884 MAE  : 330.5873 NLL : 430487.6562\n",
      "-------------------------------------------Iteration No:----------------------------------------- -> 0.2\n"
     ]
    },
    {
     "name": "stderr",
     "output_type": "stream",
     "text": [
      "/home/dhruv.patel/final_active/pos/retrain_fun.py:201: FutureWarning: The frame.append method is deprecated and will be removed from pandas in a future version. Use pandas.concat instead.\n",
      "  train = train.append(new_df)\n"
     ]
    },
    {
     "name": "stdout",
     "output_type": "stream",
     "text": [
      "Train houses are\n",
      "[7719 9019 2335 2361 7951 8156  661]\n",
      "(116959, 99)\n"
     ]
    },
    {
     "name": "stderr",
     "output_type": "stream",
     "text": [
      "2023-06-12 23:10:28.338225: W external/org_tensorflow/tensorflow/compiler/xla/service/gpu/gpu_conv_algorithm_picker.cc:825] None of the algorithms provided by cuDNN heuristics worked; trying fallback algorithms.  Conv: (f32[116959,50,99]{2,1,0}, u8[0]{0}) custom-call(f32[116959,50,99]{2,1,0}, f32[50,50,5]{2,1,0}), window={size=5 pad=2_2}, dim_labels=bf0_oi0->bf0, custom_call_target=\"__cudnn$convForward\", backend_config=\"{\\\"conv_result_scale\\\":1,\\\"activation_mode\\\":\\\"0\\\",\\\"side_input_scale\\\":0}\"\n"
     ]
    },
    {
     "name": "stdout",
     "output_type": "stream",
     "text": [
      "RMSE : 797.6124 MAE  : 314.0331 NLL : 5.4845\n",
      "-------------------------------------------Iteration No:----------------------------------------- -> 0.3\n"
     ]
    },
    {
     "name": "stderr",
     "output_type": "stream",
     "text": [
      "/home/dhruv.patel/final_active/pos/retrain_fun.py:201: FutureWarning: The frame.append method is deprecated and will be removed from pandas in a future version. Use pandas.concat instead.\n",
      "  train = train.append(new_df)\n"
     ]
    },
    {
     "name": "stdout",
     "output_type": "stream",
     "text": [
      "Train houses are\n",
      "[7719 9019 2335 2361 7951 8156  661 7800]\n",
      "(163023, 99)\n"
     ]
    },
    {
     "name": "stderr",
     "output_type": "stream",
     "text": [
      "2023-06-12 23:10:48.487072: W external/org_tensorflow/tensorflow/compiler/xla/service/gpu/gpu_conv_algorithm_picker.cc:825] None of the algorithms provided by cuDNN heuristics worked; trying fallback algorithms.  Conv: (f32[163023,40,99]{2,1,0}, u8[0]{0}) custom-call(f32[163023,30,104]{2,1,0}, f32[40,30,6]{2,1,0}), window={size=6}, dim_labels=bf0_oi0->bf0, custom_call_target=\"__cudnn$convForward\", backend_config=\"{\\\"conv_result_scale\\\":1,\\\"activation_mode\\\":\\\"0\\\",\\\"side_input_scale\\\":0}\"\n",
      "2023-06-12 23:10:49.600477: W external/org_tensorflow/tensorflow/compiler/xla/service/gpu/gpu_conv_algorithm_picker.cc:825] None of the algorithms provided by cuDNN heuristics worked; trying fallback algorithms.  Conv: (f32[163023,50,99]{2,1,0}, u8[0]{0}) custom-call(f32[163023,40,99]{2,1,0}, f32[50,40,5]{2,1,0}), window={size=5 pad=2_2}, dim_labels=bf0_oi0->bf0, custom_call_target=\"__cudnn$convForward\", backend_config=\"{\\\"conv_result_scale\\\":1,\\\"activation_mode\\\":\\\"0\\\",\\\"side_input_scale\\\":0}\"\n",
      "2023-06-12 23:10:50.787710: W external/org_tensorflow/tensorflow/compiler/xla/service/gpu/gpu_conv_algorithm_picker.cc:825] None of the algorithms provided by cuDNN heuristics worked; trying fallback algorithms.  Conv: (f32[163023,50,99]{2,1,0}, u8[0]{0}) custom-call(f32[163023,50,99]{2,1,0}, f32[50,50,5]{2,1,0}), window={size=5 pad=2_2}, dim_labels=bf0_oi0->bf0, custom_call_target=\"__cudnn$convForward\", backend_config=\"{\\\"conv_result_scale\\\":1,\\\"activation_mode\\\":\\\"0\\\",\\\"side_input_scale\\\":0}\"\n"
     ]
    },
    {
     "name": "stdout",
     "output_type": "stream",
     "text": [
      "RMSE : 355.1679 MAE  : 146.1001 NLL : 4.8909\n",
      "-------------------------------------------Iteration No:----------------------------------------- -> 0.4\n"
     ]
    },
    {
     "name": "stderr",
     "output_type": "stream",
     "text": [
      "/home/dhruv.patel/final_active/pos/retrain_fun.py:201: FutureWarning: The frame.append method is deprecated and will be removed from pandas in a future version. Use pandas.concat instead.\n",
      "  train = train.append(new_df)\n"
     ]
    },
    {
     "name": "stdout",
     "output_type": "stream",
     "text": [
      "Train houses are\n",
      "[7719 9019 2335 2361 7951 8156  661 7800 8386]\n",
      "(226287, 99)\n"
     ]
    },
    {
     "name": "stderr",
     "output_type": "stream",
     "text": [
      "2023-06-12 23:11:15.580954: W external/org_tensorflow/tensorflow/compiler/xla/service/gpu/gpu_conv_algorithm_picker.cc:825] None of the algorithms provided by cuDNN heuristics worked; trying fallback algorithms.  Conv: (f32[226287,30,99]{2,1,0}, u8[0]{0}) custom-call(f32[226287,30,106]{2,1,0}, f32[30,30,8]{2,1,0}), window={size=8}, dim_labels=bf0_oi0->bf0, custom_call_target=\"__cudnn$convForward\", backend_config=\"{\\\"conv_result_scale\\\":1,\\\"activation_mode\\\":\\\"0\\\",\\\"side_input_scale\\\":0}\"\n",
      "2023-06-12 23:11:16.768690: W external/org_tensorflow/tensorflow/compiler/xla/service/gpu/gpu_conv_algorithm_picker.cc:825] None of the algorithms provided by cuDNN heuristics worked; trying fallback algorithms.  Conv: (f32[226287,40,99]{2,1,0}, u8[0]{0}) custom-call(f32[226287,30,104]{2,1,0}, f32[40,30,6]{2,1,0}), window={size=6}, dim_labels=bf0_oi0->bf0, custom_call_target=\"__cudnn$convForward\", backend_config=\"{\\\"conv_result_scale\\\":1,\\\"activation_mode\\\":\\\"0\\\",\\\"side_input_scale\\\":0}\"\n",
      "2023-06-12 23:11:18.233217: W external/org_tensorflow/tensorflow/compiler/xla/service/gpu/gpu_conv_algorithm_picker.cc:825] None of the algorithms provided by cuDNN heuristics worked; trying fallback algorithms.  Conv: (f32[226287,50,99]{2,1,0}, u8[0]{0}) custom-call(f32[226287,40,99]{2,1,0}, f32[50,40,5]{2,1,0}), window={size=5 pad=2_2}, dim_labels=bf0_oi0->bf0, custom_call_target=\"__cudnn$convForward\", backend_config=\"{\\\"conv_result_scale\\\":1,\\\"activation_mode\\\":\\\"0\\\",\\\"side_input_scale\\\":0}\"\n",
      "2023-06-12 23:11:19.826917: W external/org_tensorflow/tensorflow/compiler/xla/service/gpu/gpu_conv_algorithm_picker.cc:825] None of the algorithms provided by cuDNN heuristics worked; trying fallback algorithms.  Conv: (f32[226287,50,99]{2,1,0}, u8[0]{0}) custom-call(f32[226287,50,99]{2,1,0}, f32[50,50,5]{2,1,0}), window={size=5 pad=2_2}, dim_labels=bf0_oi0->bf0, custom_call_target=\"__cudnn$convForward\", backend_config=\"{\\\"conv_result_scale\\\":1,\\\"activation_mode\\\":\\\"0\\\",\\\"side_input_scale\\\":0}\"\n"
     ]
    },
    {
     "name": "stdout",
     "output_type": "stream",
     "text": [
      "RMSE : 286.8689 MAE  : 113.8382 NLL : 4.5077\n",
      "-------------------------------------------Iteration No:----------------------------------------- -> 0.5\n"
     ]
    },
    {
     "name": "stderr",
     "output_type": "stream",
     "text": [
      "/home/dhruv.patel/final_active/pos/retrain_fun.py:201: FutureWarning: The frame.append method is deprecated and will be removed from pandas in a future version. Use pandas.concat instead.\n",
      "  train = train.append(new_df)\n"
     ]
    },
    {
     "name": "stdout",
     "output_type": "stream",
     "text": [
      "Train houses are\n",
      "[7719 9019 2335 2361 7951 8156  661 7800 8386 8565]\n",
      "(286063, 99)\n"
     ]
    },
    {
     "name": "stderr",
     "output_type": "stream",
     "text": [
      "2023-06-12 23:11:51.626243: W external/org_tensorflow/tensorflow/compiler/xla/service/gpu/gpu_conv_algorithm_picker.cc:825] None of the algorithms provided by cuDNN heuristics worked; trying fallback algorithms.  Conv: (f32[286063,30,99]{2,1,0}, u8[0]{0}) custom-call(f32[286063,30,106]{2,1,0}, f32[30,30,8]{2,1,0}), window={size=8}, dim_labels=bf0_oi0->bf0, custom_call_target=\"__cudnn$convForward\", backend_config=\"{\\\"conv_result_scale\\\":1,\\\"activation_mode\\\":\\\"0\\\",\\\"side_input_scale\\\":0}\"\n",
      "2023-06-12 23:11:53.135830: W external/org_tensorflow/tensorflow/compiler/xla/service/gpu/gpu_conv_algorithm_picker.cc:825] None of the algorithms provided by cuDNN heuristics worked; trying fallback algorithms.  Conv: (f32[286063,40,99]{2,1,0}, u8[0]{0}) custom-call(f32[286063,30,104]{2,1,0}, f32[40,30,6]{2,1,0}), window={size=6}, dim_labels=bf0_oi0->bf0, custom_call_target=\"__cudnn$convForward\", backend_config=\"{\\\"conv_result_scale\\\":1,\\\"activation_mode\\\":\\\"0\\\",\\\"side_input_scale\\\":0}\"\n",
      "2023-06-12 23:11:54.912888: W external/org_tensorflow/tensorflow/compiler/xla/service/gpu/gpu_conv_algorithm_picker.cc:825] None of the algorithms provided by cuDNN heuristics worked; trying fallback algorithms.  Conv: (f32[286063,50,99]{2,1,0}, u8[0]{0}) custom-call(f32[286063,40,99]{2,1,0}, f32[50,40,5]{2,1,0}), window={size=5 pad=2_2}, dim_labels=bf0_oi0->bf0, custom_call_target=\"__cudnn$convForward\", backend_config=\"{\\\"conv_result_scale\\\":1,\\\"activation_mode\\\":\\\"0\\\",\\\"side_input_scale\\\":0}\"\n",
      "2023-06-12 23:11:56.894268: W external/org_tensorflow/tensorflow/compiler/xla/service/gpu/gpu_conv_algorithm_picker.cc:825] None of the algorithms provided by cuDNN heuristics worked; trying fallback algorithms.  Conv: (f32[286063,50,99]{2,1,0}, u8[0]{0}) custom-call(f32[286063,50,99]{2,1,0}, f32[50,50,5]{2,1,0}), window={size=5 pad=2_2}, dim_labels=bf0_oi0->bf0, custom_call_target=\"__cudnn$convForward\", backend_config=\"{\\\"conv_result_scale\\\":1,\\\"activation_mode\\\":\\\"0\\\",\\\"side_input_scale\\\":0}\"\n"
     ]
    },
    {
     "name": "stdout",
     "output_type": "stream",
     "text": [
      "RMSE : 181.3632 MAE  : 64.3727 NLL : 4.4789\n",
      "-------------------------------------------Iteration No:----------------------------------------- -> 0.6\n"
     ]
    },
    {
     "name": "stderr",
     "output_type": "stream",
     "text": [
      "/home/dhruv.patel/final_active/pos/retrain_fun.py:201: FutureWarning: The frame.append method is deprecated and will be removed from pandas in a future version. Use pandas.concat instead.\n",
      "  train = train.append(new_df)\n"
     ]
    },
    {
     "name": "stdout",
     "output_type": "stream",
     "text": [
      "Train houses are\n",
      "[7719 9019 2335 2361 7951 8156  661 7800 8386 8565 5746]\n",
      "(349033, 99)\n"
     ]
    },
    {
     "name": "stderr",
     "output_type": "stream",
     "text": [
      "2023-06-12 23:12:36.347508: W external/org_tensorflow/tensorflow/compiler/xla/service/gpu/gpu_conv_algorithm_picker.cc:825] None of the algorithms provided by cuDNN heuristics worked; trying fallback algorithms.  Conv: (f32[349033,30,99]{2,1,0}, u8[0]{0}) custom-call(f32[349033,30,106]{2,1,0}, f32[30,30,8]{2,1,0}), window={size=8}, dim_labels=bf0_oi0->bf0, custom_call_target=\"__cudnn$convForward\", backend_config=\"{\\\"conv_result_scale\\\":1,\\\"activation_mode\\\":\\\"0\\\",\\\"side_input_scale\\\":0}\"\n",
      "2023-06-12 23:12:38.169875: W external/org_tensorflow/tensorflow/compiler/xla/service/gpu/gpu_conv_algorithm_picker.cc:825] None of the algorithms provided by cuDNN heuristics worked; trying fallback algorithms.  Conv: (f32[349033,40,99]{2,1,0}, u8[0]{0}) custom-call(f32[349033,30,104]{2,1,0}, f32[40,30,6]{2,1,0}), window={size=6}, dim_labels=bf0_oi0->bf0, custom_call_target=\"__cudnn$convForward\", backend_config=\"{\\\"conv_result_scale\\\":1,\\\"activation_mode\\\":\\\"0\\\",\\\"side_input_scale\\\":0}\"\n",
      "2023-06-12 23:12:40.257414: W external/org_tensorflow/tensorflow/compiler/xla/service/gpu/gpu_conv_algorithm_picker.cc:825] None of the algorithms provided by cuDNN heuristics worked; trying fallback algorithms.  Conv: (f32[349033,50,99]{2,1,0}, u8[0]{0}) custom-call(f32[349033,40,99]{2,1,0}, f32[50,40,5]{2,1,0}), window={size=5 pad=2_2}, dim_labels=bf0_oi0->bf0, custom_call_target=\"__cudnn$convForward\", backend_config=\"{\\\"conv_result_scale\\\":1,\\\"activation_mode\\\":\\\"0\\\",\\\"side_input_scale\\\":0}\"\n",
      "2023-06-12 23:12:42.552482: W external/org_tensorflow/tensorflow/compiler/xla/service/gpu/gpu_conv_algorithm_picker.cc:825] None of the algorithms provided by cuDNN heuristics worked; trying fallback algorithms.  Conv: (f32[349033,50,99]{2,1,0}, u8[0]{0}) custom-call(f32[349033,50,99]{2,1,0}, f32[50,50,5]{2,1,0}), window={size=5 pad=2_2}, dim_labels=bf0_oi0->bf0, custom_call_target=\"__cudnn$convForward\", backend_config=\"{\\\"conv_result_scale\\\":1,\\\"activation_mode\\\":\\\"0\\\",\\\"side_input_scale\\\":0}\"\n"
     ]
    },
    {
     "name": "stdout",
     "output_type": "stream",
     "text": [
      "RMSE : 202.8439 MAE  : 73.2546 NLL : 4.3782\n",
      "-------------------------------------------Iteration No:----------------------------------------- -> 0.7\n"
     ]
    },
    {
     "name": "stderr",
     "output_type": "stream",
     "text": [
      "/home/dhruv.patel/final_active/pos/retrain_fun.py:201: FutureWarning: The frame.append method is deprecated and will be removed from pandas in a future version. Use pandas.concat instead.\n",
      "  train = train.append(new_df)\n"
     ]
    },
    {
     "name": "stdout",
     "output_type": "stream",
     "text": [
      "Train houses are\n",
      "[7719 9019 2335 2361 7951 8156  661 7800 8386 8565 5746 9278]\n",
      "(416332, 99)\n"
     ]
    },
    {
     "name": "stderr",
     "output_type": "stream",
     "text": [
      "2023-06-12 23:13:29.331991: W external/org_tensorflow/tensorflow/compiler/xla/service/gpu/gpu_conv_algorithm_picker.cc:825] None of the algorithms provided by cuDNN heuristics worked; trying fallback algorithms.  Conv: (f32[416332,30,99]{2,1,0}, u8[0]{0}) custom-call(f32[416332,30,106]{2,1,0}, f32[30,30,8]{2,1,0}), window={size=8}, dim_labels=bf0_oi0->bf0, custom_call_target=\"__cudnn$convForward\", backend_config=\"{\\\"conv_result_scale\\\":1,\\\"activation_mode\\\":\\\"0\\\",\\\"side_input_scale\\\":0}\"\n",
      "2023-06-12 23:13:31.447115: W external/org_tensorflow/tensorflow/compiler/xla/service/gpu/gpu_conv_algorithm_picker.cc:825] None of the algorithms provided by cuDNN heuristics worked; trying fallback algorithms.  Conv: (f32[416332,40,99]{2,1,0}, u8[0]{0}) custom-call(f32[416332,30,104]{2,1,0}, f32[40,30,6]{2,1,0}), window={size=6}, dim_labels=bf0_oi0->bf0, custom_call_target=\"__cudnn$convForward\", backend_config=\"{\\\"conv_result_scale\\\":1,\\\"activation_mode\\\":\\\"0\\\",\\\"side_input_scale\\\":0}\"\n",
      "2023-06-12 23:13:33.896189: W external/org_tensorflow/tensorflow/compiler/xla/service/gpu/gpu_conv_algorithm_picker.cc:825] None of the algorithms provided by cuDNN heuristics worked; trying fallback algorithms.  Conv: (f32[416332,50,99]{2,1,0}, u8[0]{0}) custom-call(f32[416332,40,99]{2,1,0}, f32[50,40,5]{2,1,0}), window={size=5 pad=2_2}, dim_labels=bf0_oi0->bf0, custom_call_target=\"__cudnn$convForward\", backend_config=\"{\\\"conv_result_scale\\\":1,\\\"activation_mode\\\":\\\"0\\\",\\\"side_input_scale\\\":0}\"\n",
      "2023-06-12 23:13:36.615674: W external/org_tensorflow/tensorflow/compiler/xla/service/gpu/gpu_conv_algorithm_picker.cc:825] None of the algorithms provided by cuDNN heuristics worked; trying fallback algorithms.  Conv: (f32[416332,50,99]{2,1,0}, u8[0]{0}) custom-call(f32[416332,50,99]{2,1,0}, f32[50,50,5]{2,1,0}), window={size=5 pad=2_2}, dim_labels=bf0_oi0->bf0, custom_call_target=\"__cudnn$convForward\", backend_config=\"{\\\"conv_result_scale\\\":1,\\\"activation_mode\\\":\\\"0\\\",\\\"side_input_scale\\\":0}\"\n"
     ]
    },
    {
     "name": "stdout",
     "output_type": "stream",
     "text": [
      "RMSE : 202.0380 MAE  : 71.9727 NLL : 4.2199\n",
      "-------------------------------------------Iteration No:----------------------------------------- -> 0.8\n"
     ]
    },
    {
     "name": "stderr",
     "output_type": "stream",
     "text": [
      "/home/dhruv.patel/final_active/pos/retrain_fun.py:201: FutureWarning: The frame.append method is deprecated and will be removed from pandas in a future version. Use pandas.concat instead.\n",
      "  train = train.append(new_df)\n"
     ]
    },
    {
     "name": "stdout",
     "output_type": "stream",
     "text": [
      "Train houses are\n",
      "[7719 9019 2335 2361 7951 8156  661 7800 8386 8565 5746 9278 7536]\n",
      "(490215, 99)\n"
     ]
    },
    {
     "name": "stderr",
     "output_type": "stream",
     "text": [
      "2023-06-12 23:14:31.962990: W external/org_tensorflow/tensorflow/compiler/xla/service/gpu/gpu_conv_algorithm_picker.cc:825] None of the algorithms provided by cuDNN heuristics worked; trying fallback algorithms.  Conv: (f32[490215,30,99]{2,1,0}, u8[0]{0}) custom-call(f32[490215,30,106]{2,1,0}, f32[30,30,8]{2,1,0}), window={size=8}, dim_labels=bf0_oi0->bf0, custom_call_target=\"__cudnn$convForward\", backend_config=\"{\\\"conv_result_scale\\\":1,\\\"activation_mode\\\":\\\"0\\\",\\\"side_input_scale\\\":0}\"\n",
      "2023-06-12 23:14:34.422816: W external/org_tensorflow/tensorflow/compiler/xla/service/gpu/gpu_conv_algorithm_picker.cc:825] None of the algorithms provided by cuDNN heuristics worked; trying fallback algorithms.  Conv: (f32[490215,40,99]{2,1,0}, u8[0]{0}) custom-call(f32[490215,30,104]{2,1,0}, f32[40,30,6]{2,1,0}), window={size=6}, dim_labels=bf0_oi0->bf0, custom_call_target=\"__cudnn$convForward\", backend_config=\"{\\\"conv_result_scale\\\":1,\\\"activation_mode\\\":\\\"0\\\",\\\"side_input_scale\\\":0}\"\n"
     ]
    },
    {
     "name": "stdout",
     "output_type": "stream",
     "text": [
      "RMSE : 161.9499 MAE  : 53.5662 NLL : 4.3442\n",
      "-------------------------------------------Iteration No:----------------------------------------- -> 0.9\n"
     ]
    },
    {
     "name": "stderr",
     "output_type": "stream",
     "text": [
      "/home/dhruv.patel/final_active/pos/retrain_fun.py:201: FutureWarning: The frame.append method is deprecated and will be removed from pandas in a future version. Use pandas.concat instead.\n",
      "  train = train.append(new_df)\n"
     ]
    },
    {
     "name": "stdout",
     "output_type": "stream",
     "text": [
      "Train houses are\n",
      "[7719 9019 2335 2361 7951 8156  661 7800 8386 8565 5746 9278 7536 1642]\n",
      "(571582, 99)\n"
     ]
    },
    {
     "name": "stderr",
     "output_type": "stream",
     "text": [
      "2023-06-12 23:15:44.935781: W external/org_tensorflow/tensorflow/compiler/xla/service/gpu/gpu_conv_algorithm_picker.cc:825] None of the algorithms provided by cuDNN heuristics worked; trying fallback algorithms.  Conv: (f32[571582,30,99]{2,1,0}, u8[0]{0}) custom-call(f32[571582,30,106]{2,1,0}, f32[30,30,8]{2,1,0}), window={size=8}, dim_labels=bf0_oi0->bf0, custom_call_target=\"__cudnn$convForward\", backend_config=\"{\\\"conv_result_scale\\\":1,\\\"activation_mode\\\":\\\"0\\\",\\\"side_input_scale\\\":0}\"\n",
      "2023-06-12 23:15:47.886856: W external/org_tensorflow/tensorflow/compiler/xla/service/gpu/gpu_conv_algorithm_picker.cc:825] None of the algorithms provided by cuDNN heuristics worked; trying fallback algorithms.  Conv: (f32[571582,40,99]{2,1,0}, u8[0]{0}) custom-call(f32[571582,30,104]{2,1,0}, f32[40,30,6]{2,1,0}), window={size=6}, dim_labels=bf0_oi0->bf0, custom_call_target=\"__cudnn$convForward\", backend_config=\"{\\\"conv_result_scale\\\":1,\\\"activation_mode\\\":\\\"0\\\",\\\"side_input_scale\\\":0}\"\n"
     ]
    },
    {
     "name": "stdout",
     "output_type": "stream",
     "text": [
      "RMSE : 117.3661 MAE  : 39.6157 NLL : 4.2281\n",
      "############################################Random iteration number#################################### : 2\n",
      "I am pool houses picck [5746, 8565, 9278, 8156, 8386, 9160, 661, 1642, 7536, 7800]\n",
      "-------------------------------------------Iteration No:----------------------------------------- -> 1.0\n",
      "RMSE : 840.0187 MAE  : 332.3535 NLL : 1089753.0000\n",
      "I am random house id = 7800\n",
      "I am pool houses [5746, 8565, 9278, 8156, 8386, 9160, 661, 1642, 7536, 7800]\n",
      "(array([9]),)\n",
      "[9]\n",
      "9\n",
      "-------------------------------------------Iteration No:----------------------------------------- -> 1.1\n"
     ]
    },
    {
     "name": "stderr",
     "output_type": "stream",
     "text": [
      "/home/dhruv.patel/final_active/pos/retrain_fun.py:201: FutureWarning: The frame.append method is deprecated and will be removed from pandas in a future version. Use pandas.concat instead.\n",
      "  train = train.append(new_df)\n"
     ]
    },
    {
     "name": "stdout",
     "output_type": "stream",
     "text": [
      "Train houses are\n",
      "[7719 9019 2335 2361 7951 7800]\n",
      "(82897, 99)\n",
      "RMSE : 842.7358 MAE  : 331.4934 NLL : 13044.0625\n",
      "-------------------------------------------Iteration No:----------------------------------------- -> 1.2\n"
     ]
    },
    {
     "name": "stderr",
     "output_type": "stream",
     "text": [
      "/home/dhruv.patel/final_active/pos/retrain_fun.py:201: FutureWarning: The frame.append method is deprecated and will be removed from pandas in a future version. Use pandas.concat instead.\n",
      "  train = train.append(new_df)\n"
     ]
    },
    {
     "name": "stdout",
     "output_type": "stream",
     "text": [
      "Train houses are\n",
      "[7719 9019 2335 2361 7951 7800 9160]\n",
      "(113762, 99)\n"
     ]
    },
    {
     "name": "stderr",
     "output_type": "stream",
     "text": [
      "2023-06-12 23:17:34.391821: W external/org_tensorflow/tensorflow/compiler/xla/service/gpu/gpu_conv_algorithm_picker.cc:825] None of the algorithms provided by cuDNN heuristics worked; trying fallback algorithms.  Conv: (f32[113762,50,99]{2,1,0}, u8[0]{0}) custom-call(f32[113762,50,99]{2,1,0}, f32[50,50,5]{2,1,0}), window={size=5 pad=2_2}, dim_labels=bf0_oi0->bf0, custom_call_target=\"__cudnn$convForward\", backend_config=\"{\\\"conv_result_scale\\\":1,\\\"activation_mode\\\":\\\"0\\\",\\\"side_input_scale\\\":0}\"\n"
     ]
    },
    {
     "name": "stdout",
     "output_type": "stream",
     "text": [
      "RMSE : 547.2720 MAE  : 227.8333 NLL : 5.0936\n",
      "-------------------------------------------Iteration No:----------------------------------------- -> 1.3\n"
     ]
    },
    {
     "name": "stderr",
     "output_type": "stream",
     "text": [
      "/home/dhruv.patel/final_active/pos/retrain_fun.py:201: FutureWarning: The frame.append method is deprecated and will be removed from pandas in a future version. Use pandas.concat instead.\n",
      "  train = train.append(new_df)\n"
     ]
    },
    {
     "name": "stdout",
     "output_type": "stream",
     "text": [
      "Train houses are\n",
      "[7719 9019 2335 2361 7951 7800 9160 8565]\n",
      "(158928, 99)\n"
     ]
    },
    {
     "name": "stderr",
     "output_type": "stream",
     "text": [
      "2023-06-12 23:17:54.093486: W external/org_tensorflow/tensorflow/compiler/xla/service/gpu/gpu_conv_algorithm_picker.cc:825] None of the algorithms provided by cuDNN heuristics worked; trying fallback algorithms.  Conv: (f32[158928,40,99]{2,1,0}, u8[0]{0}) custom-call(f32[158928,30,104]{2,1,0}, f32[40,30,6]{2,1,0}), window={size=6}, dim_labels=bf0_oi0->bf0, custom_call_target=\"__cudnn$convForward\", backend_config=\"{\\\"conv_result_scale\\\":1,\\\"activation_mode\\\":\\\"0\\\",\\\"side_input_scale\\\":0}\"\n",
      "2023-06-12 23:17:55.167371: W external/org_tensorflow/tensorflow/compiler/xla/service/gpu/gpu_conv_algorithm_picker.cc:825] None of the algorithms provided by cuDNN heuristics worked; trying fallback algorithms.  Conv: (f32[158928,50,99]{2,1,0}, u8[0]{0}) custom-call(f32[158928,40,99]{2,1,0}, f32[50,40,5]{2,1,0}), window={size=5 pad=2_2}, dim_labels=bf0_oi0->bf0, custom_call_target=\"__cudnn$convForward\", backend_config=\"{\\\"conv_result_scale\\\":1,\\\"activation_mode\\\":\\\"0\\\",\\\"side_input_scale\\\":0}\"\n",
      "2023-06-12 23:17:56.348531: W external/org_tensorflow/tensorflow/compiler/xla/service/gpu/gpu_conv_algorithm_picker.cc:825] None of the algorithms provided by cuDNN heuristics worked; trying fallback algorithms.  Conv: (f32[158928,50,99]{2,1,0}, u8[0]{0}) custom-call(f32[158928,50,99]{2,1,0}, f32[50,50,5]{2,1,0}), window={size=5 pad=2_2}, dim_labels=bf0_oi0->bf0, custom_call_target=\"__cudnn$convForward\", backend_config=\"{\\\"conv_result_scale\\\":1,\\\"activation_mode\\\":\\\"0\\\",\\\"side_input_scale\\\":0}\"\n"
     ]
    },
    {
     "name": "stdout",
     "output_type": "stream",
     "text": [
      "RMSE : 216.8294 MAE  : 85.8965 NLL : 4.8480\n",
      "-------------------------------------------Iteration No:----------------------------------------- -> 1.4\n"
     ]
    },
    {
     "name": "stderr",
     "output_type": "stream",
     "text": [
      "/home/dhruv.patel/final_active/pos/retrain_fun.py:201: FutureWarning: The frame.append method is deprecated and will be removed from pandas in a future version. Use pandas.concat instead.\n",
      "  train = train.append(new_df)\n"
     ]
    },
    {
     "name": "stdout",
     "output_type": "stream",
     "text": [
      "Train houses are\n",
      "[7719 9019 2335 2361 7951 7800 9160 8565  661]\n",
      "(220206, 99)\n"
     ]
    },
    {
     "name": "stderr",
     "output_type": "stream",
     "text": [
      "2023-06-12 23:18:20.279910: W external/org_tensorflow/tensorflow/compiler/xla/service/gpu/gpu_conv_algorithm_picker.cc:825] None of the algorithms provided by cuDNN heuristics worked; trying fallback algorithms.  Conv: (f32[220206,30,99]{2,1,0}, u8[0]{0}) custom-call(f32[220206,30,106]{2,1,0}, f32[30,30,8]{2,1,0}), window={size=8}, dim_labels=bf0_oi0->bf0, custom_call_target=\"__cudnn$convForward\", backend_config=\"{\\\"conv_result_scale\\\":1,\\\"activation_mode\\\":\\\"0\\\",\\\"side_input_scale\\\":0}\"\n",
      "2023-06-12 23:18:21.445820: W external/org_tensorflow/tensorflow/compiler/xla/service/gpu/gpu_conv_algorithm_picker.cc:825] None of the algorithms provided by cuDNN heuristics worked; trying fallback algorithms.  Conv: (f32[220206,40,99]{2,1,0}, u8[0]{0}) custom-call(f32[220206,30,104]{2,1,0}, f32[40,30,6]{2,1,0}), window={size=6}, dim_labels=bf0_oi0->bf0, custom_call_target=\"__cudnn$convForward\", backend_config=\"{\\\"conv_result_scale\\\":1,\\\"activation_mode\\\":\\\"0\\\",\\\"side_input_scale\\\":0}\"\n",
      "2023-06-12 23:18:22.854597: W external/org_tensorflow/tensorflow/compiler/xla/service/gpu/gpu_conv_algorithm_picker.cc:825] None of the algorithms provided by cuDNN heuristics worked; trying fallback algorithms.  Conv: (f32[220206,50,99]{2,1,0}, u8[0]{0}) custom-call(f32[220206,40,99]{2,1,0}, f32[50,40,5]{2,1,0}), window={size=5 pad=2_2}, dim_labels=bf0_oi0->bf0, custom_call_target=\"__cudnn$convForward\", backend_config=\"{\\\"conv_result_scale\\\":1,\\\"activation_mode\\\":\\\"0\\\",\\\"side_input_scale\\\":0}\"\n",
      "2023-06-12 23:18:24.405446: W external/org_tensorflow/tensorflow/compiler/xla/service/gpu/gpu_conv_algorithm_picker.cc:825] None of the algorithms provided by cuDNN heuristics worked; trying fallback algorithms.  Conv: (f32[220206,50,99]{2,1,0}, u8[0]{0}) custom-call(f32[220206,50,99]{2,1,0}, f32[50,50,5]{2,1,0}), window={size=5 pad=2_2}, dim_labels=bf0_oi0->bf0, custom_call_target=\"__cudnn$convForward\", backend_config=\"{\\\"conv_result_scale\\\":1,\\\"activation_mode\\\":\\\"0\\\",\\\"side_input_scale\\\":0}\"\n"
     ]
    },
    {
     "name": "stdout",
     "output_type": "stream",
     "text": [
      "RMSE : 209.6790 MAE  : 81.0454 NLL : 4.9212\n",
      "-------------------------------------------Iteration No:----------------------------------------- -> 1.5\n"
     ]
    },
    {
     "name": "stderr",
     "output_type": "stream",
     "text": [
      "/home/dhruv.patel/final_active/pos/retrain_fun.py:201: FutureWarning: The frame.append method is deprecated and will be removed from pandas in a future version. Use pandas.concat instead.\n",
      "  train = train.append(new_df)\n"
     ]
    },
    {
     "name": "stdout",
     "output_type": "stream",
     "text": [
      "Train houses are\n",
      "[7719 9019 2335 2361 7951 7800 9160 8565  661 1642]\n",
      "(277770, 99)\n"
     ]
    },
    {
     "name": "stderr",
     "output_type": "stream",
     "text": [
      "2023-06-12 23:18:55.522992: W external/org_tensorflow/tensorflow/compiler/xla/service/gpu/gpu_conv_algorithm_picker.cc:825] None of the algorithms provided by cuDNN heuristics worked; trying fallback algorithms.  Conv: (f32[277770,30,99]{2,1,0}, u8[0]{0}) custom-call(f32[277770,30,106]{2,1,0}, f32[30,30,8]{2,1,0}), window={size=8}, dim_labels=bf0_oi0->bf0, custom_call_target=\"__cudnn$convForward\", backend_config=\"{\\\"conv_result_scale\\\":1,\\\"activation_mode\\\":\\\"0\\\",\\\"side_input_scale\\\":0}\"\n",
      "2023-06-12 23:18:56.940986: W external/org_tensorflow/tensorflow/compiler/xla/service/gpu/gpu_conv_algorithm_picker.cc:825] None of the algorithms provided by cuDNN heuristics worked; trying fallback algorithms.  Conv: (f32[277770,40,99]{2,1,0}, u8[0]{0}) custom-call(f32[277770,30,104]{2,1,0}, f32[40,30,6]{2,1,0}), window={size=6}, dim_labels=bf0_oi0->bf0, custom_call_target=\"__cudnn$convForward\", backend_config=\"{\\\"conv_result_scale\\\":1,\\\"activation_mode\\\":\\\"0\\\",\\\"side_input_scale\\\":0}\"\n",
      "2023-06-12 23:18:58.610903: W external/org_tensorflow/tensorflow/compiler/xla/service/gpu/gpu_conv_algorithm_picker.cc:825] None of the algorithms provided by cuDNN heuristics worked; trying fallback algorithms.  Conv: (f32[277770,50,99]{2,1,0}, u8[0]{0}) custom-call(f32[277770,40,99]{2,1,0}, f32[50,40,5]{2,1,0}), window={size=5 pad=2_2}, dim_labels=bf0_oi0->bf0, custom_call_target=\"__cudnn$convForward\", backend_config=\"{\\\"conv_result_scale\\\":1,\\\"activation_mode\\\":\\\"0\\\",\\\"side_input_scale\\\":0}\"\n",
      "2023-06-12 23:19:00.458301: W external/org_tensorflow/tensorflow/compiler/xla/service/gpu/gpu_conv_algorithm_picker.cc:825] None of the algorithms provided by cuDNN heuristics worked; trying fallback algorithms.  Conv: (f32[277770,50,99]{2,1,0}, u8[0]{0}) custom-call(f32[277770,50,99]{2,1,0}, f32[50,50,5]{2,1,0}), window={size=5 pad=2_2}, dim_labels=bf0_oi0->bf0, custom_call_target=\"__cudnn$convForward\", backend_config=\"{\\\"conv_result_scale\\\":1,\\\"activation_mode\\\":\\\"0\\\",\\\"side_input_scale\\\":0}\"\n"
     ]
    },
    {
     "name": "stdout",
     "output_type": "stream",
     "text": [
      "RMSE : 208.8442 MAE  : 77.3485 NLL : 4.7545\n",
      "-------------------------------------------Iteration No:----------------------------------------- -> 1.6\n"
     ]
    },
    {
     "name": "stderr",
     "output_type": "stream",
     "text": [
      "/home/dhruv.patel/final_active/pos/retrain_fun.py:201: FutureWarning: The frame.append method is deprecated and will be removed from pandas in a future version. Use pandas.concat instead.\n",
      "  train = train.append(new_df)\n"
     ]
    },
    {
     "name": "stdout",
     "output_type": "stream",
     "text": [
      "Train houses are\n",
      "[7719 9019 2335 2361 7951 7800 9160 8565  661 1642 9278]\n",
      "(341907, 99)\n"
     ]
    },
    {
     "name": "stderr",
     "output_type": "stream",
     "text": [
      "2023-06-12 23:19:38.862390: W external/org_tensorflow/tensorflow/compiler/xla/service/gpu/gpu_conv_algorithm_picker.cc:825] None of the algorithms provided by cuDNN heuristics worked; trying fallback algorithms.  Conv: (f32[341907,30,99]{2,1,0}, u8[0]{0}) custom-call(f32[341907,30,106]{2,1,0}, f32[30,30,8]{2,1,0}), window={size=8}, dim_labels=bf0_oi0->bf0, custom_call_target=\"__cudnn$convForward\", backend_config=\"{\\\"conv_result_scale\\\":1,\\\"activation_mode\\\":\\\"0\\\",\\\"side_input_scale\\\":0}\"\n",
      "2023-06-12 23:19:40.622119: W external/org_tensorflow/tensorflow/compiler/xla/service/gpu/gpu_conv_algorithm_picker.cc:825] None of the algorithms provided by cuDNN heuristics worked; trying fallback algorithms.  Conv: (f32[341907,40,99]{2,1,0}, u8[0]{0}) custom-call(f32[341907,30,104]{2,1,0}, f32[40,30,6]{2,1,0}), window={size=6}, dim_labels=bf0_oi0->bf0, custom_call_target=\"__cudnn$convForward\", backend_config=\"{\\\"conv_result_scale\\\":1,\\\"activation_mode\\\":\\\"0\\\",\\\"side_input_scale\\\":0}\"\n",
      "2023-06-12 23:19:42.657019: W external/org_tensorflow/tensorflow/compiler/xla/service/gpu/gpu_conv_algorithm_picker.cc:825] None of the algorithms provided by cuDNN heuristics worked; trying fallback algorithms.  Conv: (f32[341907,50,99]{2,1,0}, u8[0]{0}) custom-call(f32[341907,40,99]{2,1,0}, f32[50,40,5]{2,1,0}), window={size=5 pad=2_2}, dim_labels=bf0_oi0->bf0, custom_call_target=\"__cudnn$convForward\", backend_config=\"{\\\"conv_result_scale\\\":1,\\\"activation_mode\\\":\\\"0\\\",\\\"side_input_scale\\\":0}\"\n",
      "2023-06-12 23:19:44.881773: W external/org_tensorflow/tensorflow/compiler/xla/service/gpu/gpu_conv_algorithm_picker.cc:825] None of the algorithms provided by cuDNN heuristics worked; trying fallback algorithms.  Conv: (f32[341907,50,99]{2,1,0}, u8[0]{0}) custom-call(f32[341907,50,99]{2,1,0}, f32[50,50,5]{2,1,0}), window={size=5 pad=2_2}, dim_labels=bf0_oi0->bf0, custom_call_target=\"__cudnn$convForward\", backend_config=\"{\\\"conv_result_scale\\\":1,\\\"activation_mode\\\":\\\"0\\\",\\\"side_input_scale\\\":0}\"\n"
     ]
    },
    {
     "name": "stdout",
     "output_type": "stream",
     "text": [
      "RMSE : 234.7971 MAE  : 82.7753 NLL : 4.5235\n",
      "-------------------------------------------Iteration No:----------------------------------------- -> 1.7\n"
     ]
    },
    {
     "name": "stderr",
     "output_type": "stream",
     "text": [
      "/home/dhruv.patel/final_active/pos/retrain_fun.py:201: FutureWarning: The frame.append method is deprecated and will be removed from pandas in a future version. Use pandas.concat instead.\n",
      "  train = train.append(new_df)\n"
     ]
    },
    {
     "name": "stdout",
     "output_type": "stream",
     "text": [
      "Train houses are\n",
      "[7719 9019 2335 2361 7951 7800 9160 8565  661 1642 9278 8156]\n",
      "(412837, 99)\n"
     ]
    },
    {
     "name": "stderr",
     "output_type": "stream",
     "text": [
      "2023-06-12 23:20:31.145270: W external/org_tensorflow/tensorflow/compiler/xla/service/gpu/gpu_conv_algorithm_picker.cc:825] None of the algorithms provided by cuDNN heuristics worked; trying fallback algorithms.  Conv: (f32[412837,30,99]{2,1,0}, u8[0]{0}) custom-call(f32[412837,30,106]{2,1,0}, f32[30,30,8]{2,1,0}), window={size=8}, dim_labels=bf0_oi0->bf0, custom_call_target=\"__cudnn$convForward\", backend_config=\"{\\\"conv_result_scale\\\":1,\\\"activation_mode\\\":\\\"0\\\",\\\"side_input_scale\\\":0}\"\n",
      "2023-06-12 23:20:33.317243: W external/org_tensorflow/tensorflow/compiler/xla/service/gpu/gpu_conv_algorithm_picker.cc:825] None of the algorithms provided by cuDNN heuristics worked; trying fallback algorithms.  Conv: (f32[412837,40,99]{2,1,0}, u8[0]{0}) custom-call(f32[412837,30,104]{2,1,0}, f32[40,30,6]{2,1,0}), window={size=6}, dim_labels=bf0_oi0->bf0, custom_call_target=\"__cudnn$convForward\", backend_config=\"{\\\"conv_result_scale\\\":1,\\\"activation_mode\\\":\\\"0\\\",\\\"side_input_scale\\\":0}\"\n",
      "2023-06-12 23:20:35.777490: W external/org_tensorflow/tensorflow/compiler/xla/service/gpu/gpu_conv_algorithm_picker.cc:825] None of the algorithms provided by cuDNN heuristics worked; trying fallback algorithms.  Conv: (f32[412837,50,99]{2,1,0}, u8[0]{0}) custom-call(f32[412837,40,99]{2,1,0}, f32[50,40,5]{2,1,0}), window={size=5 pad=2_2}, dim_labels=bf0_oi0->bf0, custom_call_target=\"__cudnn$convForward\", backend_config=\"{\\\"conv_result_scale\\\":1,\\\"activation_mode\\\":\\\"0\\\",\\\"side_input_scale\\\":0}\"\n",
      "2023-06-12 23:20:38.454157: W external/org_tensorflow/tensorflow/compiler/xla/service/gpu/gpu_conv_algorithm_picker.cc:825] None of the algorithms provided by cuDNN heuristics worked; trying fallback algorithms.  Conv: (f32[412837,50,99]{2,1,0}, u8[0]{0}) custom-call(f32[412837,50,99]{2,1,0}, f32[50,50,5]{2,1,0}), window={size=5 pad=2_2}, dim_labels=bf0_oi0->bf0, custom_call_target=\"__cudnn$convForward\", backend_config=\"{\\\"conv_result_scale\\\":1,\\\"activation_mode\\\":\\\"0\\\",\\\"side_input_scale\\\":0}\"\n"
     ]
    },
    {
     "name": "stdout",
     "output_type": "stream",
     "text": [
      "RMSE : 159.9154 MAE  : 55.6747 NLL : 4.3300\n",
      "-------------------------------------------Iteration No:----------------------------------------- -> 1.8\n"
     ]
    },
    {
     "name": "stderr",
     "output_type": "stream",
     "text": [
      "/home/dhruv.patel/final_active/pos/retrain_fun.py:201: FutureWarning: The frame.append method is deprecated and will be removed from pandas in a future version. Use pandas.concat instead.\n",
      "  train = train.append(new_df)\n"
     ]
    },
    {
     "name": "stdout",
     "output_type": "stream",
     "text": [
      "Train houses are\n",
      "[7719 9019 2335 2361 7951 7800 9160 8565  661 1642 9278 8156 7536]\n",
      "(491562, 99)\n"
     ]
    },
    {
     "name": "stderr",
     "output_type": "stream",
     "text": [
      "2023-06-12 23:21:32.837207: W external/org_tensorflow/tensorflow/compiler/xla/service/gpu/gpu_conv_algorithm_picker.cc:825] None of the algorithms provided by cuDNN heuristics worked; trying fallback algorithms.  Conv: (f32[491562,30,99]{2,1,0}, u8[0]{0}) custom-call(f32[491562,30,106]{2,1,0}, f32[30,30,8]{2,1,0}), window={size=8}, dim_labels=bf0_oi0->bf0, custom_call_target=\"__cudnn$convForward\", backend_config=\"{\\\"conv_result_scale\\\":1,\\\"activation_mode\\\":\\\"0\\\",\\\"side_input_scale\\\":0}\"\n",
      "2023-06-12 23:21:35.321446: W external/org_tensorflow/tensorflow/compiler/xla/service/gpu/gpu_conv_algorithm_picker.cc:825] None of the algorithms provided by cuDNN heuristics worked; trying fallback algorithms.  Conv: (f32[491562,40,99]{2,1,0}, u8[0]{0}) custom-call(f32[491562,30,104]{2,1,0}, f32[40,30,6]{2,1,0}), window={size=6}, dim_labels=bf0_oi0->bf0, custom_call_target=\"__cudnn$convForward\", backend_config=\"{\\\"conv_result_scale\\\":1,\\\"activation_mode\\\":\\\"0\\\",\\\"side_input_scale\\\":0}\"\n"
     ]
    },
    {
     "name": "stdout",
     "output_type": "stream",
     "text": [
      "RMSE : 118.8510 MAE  : 40.9499 NLL : 4.2126\n",
      "-------------------------------------------Iteration No:----------------------------------------- -> 1.9\n"
     ]
    },
    {
     "name": "stderr",
     "output_type": "stream",
     "text": [
      "/home/dhruv.patel/final_active/pos/retrain_fun.py:201: FutureWarning: The frame.append method is deprecated and will be removed from pandas in a future version. Use pandas.concat instead.\n",
      "  train = train.append(new_df)\n"
     ]
    },
    {
     "name": "stdout",
     "output_type": "stream",
     "text": [
      "Train houses are\n",
      "[7719 9019 2335 2361 7951 7800 9160 8565  661 1642 9278 8156 7536 5746]\n",
      "(570526, 99)\n"
     ]
    },
    {
     "name": "stderr",
     "output_type": "stream",
     "text": [
      "2023-06-12 23:22:44.854022: W external/org_tensorflow/tensorflow/compiler/xla/service/gpu/gpu_conv_algorithm_picker.cc:825] None of the algorithms provided by cuDNN heuristics worked; trying fallback algorithms.  Conv: (f32[570526,30,99]{2,1,0}, u8[0]{0}) custom-call(f32[570526,30,106]{2,1,0}, f32[30,30,8]{2,1,0}), window={size=8}, dim_labels=bf0_oi0->bf0, custom_call_target=\"__cudnn$convForward\", backend_config=\"{\\\"conv_result_scale\\\":1,\\\"activation_mode\\\":\\\"0\\\",\\\"side_input_scale\\\":0}\"\n",
      "2023-06-12 23:22:47.695569: W external/org_tensorflow/tensorflow/compiler/xla/service/gpu/gpu_conv_algorithm_picker.cc:825] None of the algorithms provided by cuDNN heuristics worked; trying fallback algorithms.  Conv: (f32[570526,40,99]{2,1,0}, u8[0]{0}) custom-call(f32[570526,30,104]{2,1,0}, f32[40,30,6]{2,1,0}), window={size=6}, dim_labels=bf0_oi0->bf0, custom_call_target=\"__cudnn$convForward\", backend_config=\"{\\\"conv_result_scale\\\":1,\\\"activation_mode\\\":\\\"0\\\",\\\"side_input_scale\\\":0}\"\n"
     ]
    },
    {
     "name": "stdout",
     "output_type": "stream",
     "text": [
      "RMSE : 111.5132 MAE  : 38.2284 NLL : 3.9628\n"
     ]
    },
    {
     "data": {
      "image/png": "[encoded data removed]",
      "text/plain": [
       "<Figure size 640x480 with 1 Axes>"
      ]
     },
     "metadata": {},
     "output_type": "display_data"
    }
   ],
   "source": [
    "total_rmse=[]\n",
    "houseids=[]\n",
    "\n",
    "all_rmses = dict()\n",
    "all_maes = dict() \n",
    "all_preds = dict() \n",
    "\n",
    "iteration_number = f'{start}_{end}_iterations'\n",
    "\n",
    "print(f\"STARTING FOR {appliance}, FOR ITERATIONS - {start} to {end}\")\n",
    "\n",
    "for i in range(start,end): #total 10 iterations\n",
    "\n",
    "    print(f\"############################################Random iteration number#################################### : {i+1}\")\n",
    "\n",
    "    train_houses = all_appliance_train_lists[appliance][0] \n",
    "    test_houses = all_appliance_test_lists[appliance][0] \n",
    "    pool_houses = all_appliance_pool_lists[appliance][0] \n",
    "\n",
    "    print(f\"I am pool houses picck {pool_houses}\")\n",
    "    \n",
    "    \n",
    "    train = data_aggregated[data_aggregated[\"dataid\"].isin(train_houses)] \n",
    "    test = data_aggregated[data_aggregated[\"dataid\"].isin(test_houses)]\n",
    "\n",
    "    all_rmses[i] = []\n",
    "    all_maes[i] = []\n",
    "    all_preds[i] = []\n",
    "    \n",
    "    houses=[]\n",
    "\n",
    "    start= [\"2018-03-01 00:00:00-06\",\"2018-03-11 00:00:00-06\",\"2018-03-16 00:00:00-06\",\"2018-03-21 00:00:00-06\",\"2018-03-26 00:00:00-06\",\"2018-04-01 00:00:00-06\", \"2018-04-06 00:00:00-06\", \"2018-04-11 00:00:00-06\", \"2018-04-16 00:00:00-06\", \"2018-04-21 00:00:00-06\"]\n",
    "    end=   [\"2018-03-10 23:59:00-06\",\"2018-03-15 23:59:00-06\",\"2018-03-20 23:59:00-06\",\"2018-03-25 23:59:00-06\",\"2018-03-31 23:59:00-06\",\"2018-04-05 23:59:00-06\", \"2018-04-10 23:59:00-06\", \"2018-04-15 23:59:00-06\", \"2018-04-20 23:59:00-06\", \"2018-04-25 23:59:00-06\"]\n",
    "    \n",
    "    for j in range(len(start)):\n",
    "        \n",
    "        \n",
    "        print(f\"-------------------------------------------Iteration No:----------------------------------------- -> {i}.{j}\")\n",
    "\n",
    "        if(j==0):\n",
    "            rmsee, maes, train, test,current_pred = retrain_random(0, start[j], end[j], pool_houses, train, test,appliance, data_aggregated)\n",
    "            all_rmses[i].append(rmsee.item())\n",
    "            all_maes[i].append(maes.item())\n",
    "            all_preds[i].append(current_pred)\n",
    "\n",
    "            random_house_id = random_picks[appliance][i][j]\n",
    "            print(f\"I am random house id = {random_house_id}\")\n",
    "            print(f\"I am pool houses {pool_houses}\")\n",
    "            print(f\"{np.where(np.array(pool_houses)==random_house_id)}\")\n",
    "            print(f\"{np.where(np.array(pool_houses)==random_house_id)[0]}\")\n",
    "            print(f\"{np.where(np.array(pool_houses)==random_house_id)[0][0]}\")\n",
    "            random_house_index = np.where(np.array(pool_houses)==random_house_id)[0][0]  \n",
    "\n",
    "            houses.append(random_house_id)\n",
    "            pool_houses= np.delete(pool_houses, random_house_index)\n",
    "            # break #REMOVE AT THE END\n",
    "\n",
    "        elif(j==10):\n",
    "            rmsee, maes, train, test,current_pred = retrain_random(random_house_id, start[j], end[j], pool_houses, train, test,appliance, data_aggregated)\n",
    "            all_rmses[i].append(rmsee.item())\n",
    "            all_maes[i].append(maes.item())\n",
    "            all_preds[i].append(current_pred)\n",
    "\n",
    "        else:\n",
    "            rmsee, maes, train, test,current_pred = retrain_random(random_house_id, start[j], end[j], pool_houses, train, test,appliance, data_aggregated)\n",
    "            all_rmses[i].append(rmsee.item())\n",
    "            all_maes[i].append(maes.item())\n",
    "            all_preds[i].append(current_pred)\n",
    "\n",
    "            random_house_id = random_picks[appliance][i][j]\n",
    "            \n",
    "            random_house_index = np.where(np.array(pool_houses)==random_house_id)[0][0]  \n",
    "            \n",
    "            houses.append(random_house_id)\n",
    "            pool_houses= np.delete(pool_houses, random_house_index)\n",
    "        \n",
    "        \n",
    "    # total_rmse.append(rmse_iter)\n",
    "    houseids.append(houses)\n",
    "    \n",
    "    # if i not in all_rmses:\n",
    "    #     all_rmses[i] = total_rmse\n",
    "\n",
    "\n"
   ]
  },
  {
   "cell_type": "code",
   "execution_count": 9,
   "metadata": {},
   "outputs": [
    {
     "ename": "",
     "evalue": "",
     "output_type": "error",
     "traceback": [
      "\u001b[1;31mThe Kernel crashed while executing code in the the current cell or a previous cell. Please review the code in the cell(s) to identify a possible cause of the failure. Click <a href='https://aka.ms/vscodeJupyterKernelCrash'>here</a> for more info. View Jupyter <a href='command:jupyter.viewOutput'>log</a> for further details."
     ]
    }
   ],
   "source": [
    "name_of_file_rmses = \"30random\"+\"_\"+str(iteration_number) + \"RMSES\"+\".csv\"\n",
    "name_of_file_maes = \"30random\"+\"_\"+str(iteration_number) + \"MAES\"+\".csv\"\n",
    "# name_of_file_preds = str(random)+\"_\"+str(iteration_number)+\"PREDS\"+\".csv\"\n",
    "\n",
    "if not os.path.exists(f'{appliance}'):\n",
    "    os.mkdir(f'{appliance}')\n",
    "\n",
    "# Save the DataFrame to a CSV file\n",
    "pd.DataFrame(all_rmses).to_csv(os.path.join(f'{appliance}', f'{name_of_file_rmses}'), index=False)\n",
    "pd.DataFrame(all_maes).to_csv(os.path.join(f'{appliance}', f'{name_of_file_maes}'), index=False)\n",
    "# pd.DataFrame(all_preds).to_csv(os.path.join(f'{appliance}', f'{name_of_file_preds}'), index=False)"
   ]
  },
  {
   "cell_type": "code",
   "execution_count": null,
   "metadata": {},
   "outputs": [],
   "source": []
  },
  {
   "cell_type": "code",
   "execution_count": null,
   "metadata": {},
   "outputs": [],
   "source": []
  }
 ],
 "metadata": {
  "kernelspec": {
   "display_name": "active_NILM",
   "language": "python",
   "name": "active_nilm"
  },
  "language_info": {
   "codemirror_mode": {
    "name": "ipython",
    "version": 3
   },
   "file_extension": ".py",
   "mimetype": "text/x-python",
   "name": "python",
   "nbconvert_exporter": "python",
   "pygments_lexer": "ipython3",
   "version": "3.9.16"
  },
  "orig_nbformat": 4
 },
 "nbformat": 4,
 "nbformat_minor": 2
}
